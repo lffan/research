{
 "cells": [
  {
   "cell_type": "markdown",
   "metadata": {
    "collapsed": true
   },
   "source": [
    "**Entropy of Laser with Fixed Average Photon Numbers**\n",
    "\n",
    "- author: Longfei Fan\n",
    "- created: 05/10/2017\n",
    "- modified: 05/17/2017"
   ]
  },
  {
   "cell_type": "markdown",
   "metadata": {},
   "source": [
    "**Abstract**\n",
    "\n",
    "In this note, I study how the entropy of laser changes with respect to time given on differnet A/C values and fixed avergage photon numbers."
   ]
  },
  {
   "cell_type": "code",
   "execution_count": 1,
   "metadata": {
    "collapsed": true
   },
   "outputs": [],
   "source": [
    "import numpy as np\n",
    "import matplotlib.pyplot as plt\n",
    "import pandas as pd\n",
    "import seaborn as sns\n",
    "\n",
    "from scipy.stats import poisson\n",
    "\n",
    "from qutip import *\n",
    "import laser, entropy_utils\n",
    "\n",
    "%matplotlib inline\n",
    "%reload_ext autoreload\n",
    "%autoreload 1\n",
    "%aimport laser, entropy_utils"
   ]
  },
  {
   "cell_type": "code",
   "execution_count": 2,
   "metadata": {
    "collapsed": true
   },
   "outputs": [],
   "source": [
    "from IPython.display import set_matplotlib_formats\n",
    "set_matplotlib_formats('pdf', 'png')"
   ]
  },
  {
   "cell_type": "markdown",
   "metadata": {},
   "source": [
    "# Theoretical Analysis"
   ]
  },
  {
   "cell_type": "markdown",
   "metadata": {},
   "source": [
    "\n",
    "**Equation of Motion for the Density Matrix of the Cavity Field**\n",
    "\n",
    "For the density of the cavity field $\\rho_{nm}$, we have differential equations given by\n",
    "\n",
    "$$\n",
    "\\begin{aligned}\n",
    "\\dot{\\rho}_{nm} =\n",
    "&- \\frac{M_{nm}A}{1 + N_{nm}B/A} \\rho_{nm} + \\frac{\\sqrt{nm}A}{1 + N_{n-1,m-1}B/A} \\rho_{n-1,m-1} \\\\\n",
    "&- \\frac{C}{2}(n+m)\\rho_{nm} + C\\sqrt{(n+1)(m+1)} \\rho_{n+1, m+1}\n",
    "\\end{aligned}\n",
    "$$\n",
    "\n",
    "where\n",
    "$$\n",
    "\\begin{aligned}\n",
    "A &= \\frac{2r_a g^2}{\\gamma^2},\\\\\n",
    "B &= \\frac{4g^2}{\\gamma^2} A,\\\\\n",
    "M_{nm} &= \\frac{1}{2}(n+m+2) + (n-m)^2\\frac{B}{8A},\\\\\n",
    "N_{nm} &= \\frac{1}{2}(n+m+2) + (n-m)^2\\frac{B}{16A}.\n",
    "\\end{aligned}\n",
    "$$"
   ]
  },
  {
   "cell_type": "markdown",
   "metadata": {},
   "source": [
    "**Equations for diagonal terms**\n",
    "\n",
    "It's seen that only diagonal terms are coupled together. Therefore we would have several groups of equations which are decoupled from each other. In particular, for the main diagonal elements, the group of euqations we have are given by\n",
    "\n",
    "$$\n",
    "\\begin{aligned}\n",
    "\\dot{p}(n) =\n",
    "&- \\frac{(n+1)A}{1 + (n+1)B/A} p(n) + \\frac{nA}{1 + nB/A} p(n-1) \\\\\n",
    "&- Cnp(n) + C(n+1)p(n+1)\n",
    "\\end{aligned}\n",
    "$$\n",
    "\n",
    "If the cavity state starts from a vaccum state, only $\\rho_{00}~(p_0)$ is non-zero at the very beginning. Only main diagonal terms are coupled with $\\rho_{00}$, so only main diagonal terms will become non-zero during evolution. Other offset diagonal terms will keep zero during the evolution. So we can get the whole density matrix by just solving the main diagonal terms."
   ]
  },
  {
   "cell_type": "markdown",
   "metadata": {},
   "source": [
    "# Numeric Simulation"
   ]
  },
  {
   "cell_type": "markdown",
   "metadata": {},
   "source": [
    "**Paramters**\n",
    "\n",
    "The average photon number for laser operated above the threshold is given by\n",
    "\n",
    "$$\n",
    "\\bar{n} = \\frac{A}{C} \\frac{A - C}{B} = \\frac{A}{C} \\frac{A - C}{4g^2A/\\gamma^2} = (\\alpha - 1) \\frac{\\gamma^2}{4 g^2}\n",
    "$$\n",
    "\n",
    "The ratio is given by\n",
    "\n",
    "$$\n",
    "\\alpha = \\frac{A}{C} = \\frac{r_a}{2C} \\frac{4g^2}{\\gamma^2}\n",
    "$$\n",
    "\n",
    "Recall that the effective pumping rate is defined by\n",
    "\n",
    "$$\n",
    "r_a = \\frac{\\gamma \\lambda}{\\gamma + \\lambda} = \\frac{\\gamma}{1 + \\lambda / \\gamma}\n",
    "$$\n",
    "\n",
    "As both $\\gamma$ and $\\lambda$ are positve but smaller than one, $r_a$ also falls within $0$ and $1$."
   ]
  },
  {
   "cell_type": "markdown",
   "metadata": {},
   "source": [
    "**Parameters Used for the Atom and Cavity**\n",
    "\n",
    "There are a few parameters to be considered for this problem, we have to make something fixed. Here I make the average photon numbers $\\bar{n} = 50$ and $\\bar{n} = 200$, and the cavity damping rate $C = 0.0001$. Then I can study how entropy evoloves given the fixed steady average photon numbers with respect to differnet A/C ratios.\n",
    "\n",
    "As $r_a = 2C \\alpha \\gamma^2 / 4g^2 = 2C \\bar{n} \\alpha / (1 - \\alpha) < 1$, we have $\\alpha > 1 / (1 - 2 C \\bar{n})$. Then $2 C \\bar{n}$ cannot be too large, if we want to explore $\\alpha$ which is close to $1$. For $\\bar{n} = 50$, we have $\\alpha > 1 + 0.01$."
   ]
  },
  {
   "cell_type": "markdown",
   "metadata": {},
   "source": [
    "**Initial States**\n",
    "\n",
    "- cavity: vaccum state $\\lvert 0 \\rangle$\n",
    "- atom: ground state $\\lvert g \\rangle$"
   ]
  },
  {
   "cell_type": "code",
   "execution_count": 3,
   "metadata": {
    "collapsed": true
   },
   "outputs": [],
   "source": [
    "G = 0.001\n",
    "KAPPA = 0.001\n",
    "NBAR = 20\n",
    "\n",
    "N_max = 100\n",
    "n_list = np.arange(N_max)\n",
    "s_op = squeeze(N_max, 1)\n",
    "vac = fock(N_max, 0)\n",
    "init_psi = ket2dm(s_op * vac) # initial cavity state## Average Photon Number $\\bar{n} = 200$"
   ]
  },
  {
   "cell_type": "code",
   "execution_count": 4,
   "metadata": {},
   "outputs": [
    {
     "data": {
      "text/plain": [
       "(-4.114637230667249e-11, -4.114637230667249e-11)"
      ]
     },
     "execution_count": 4,
     "metadata": {},
     "output_type": "execute_result"
    }
   ],
   "source": [
    "entropy_vn(init_psi), entropy_vn(s_op * vac)"
   ]
  },
  {
   "cell_type": "code",
   "execution_count": 5,
   "metadata": {},
   "outputs": [
    {
     "data": {
      "text/plain": [
       "(1.381097845392329, 1.3810978455408025)"
      ]
     },
     "execution_count": 5,
     "metadata": {},
     "output_type": "execute_result"
    }
   ],
   "source": [
    "expect(create(N_max) * destroy(N_max), init_psi), expect(create(N_max) * destroy(N_max), s_op * vac)"
   ]
  },
  {
   "cell_type": "markdown",
   "metadata": {},
   "source": [
    "The entropy estimated by the paper under the apprximation of large average photon numbers"
   ]
  },
  {
   "cell_type": "code",
   "execution_count": 6,
   "metadata": {},
   "outputs": [
    {
     "name": "stdout",
     "output_type": "stream",
     "text": [
      "ENTROPY APPROXIMATION: 2.4168\n"
     ]
    }
   ],
   "source": [
    "ENTR_APPROX = 0.5 * np.log(NBAR) + 0.5 * np.log(2 * np.pi)\n",
    "print('ENTROPY APPROXIMATION: {:.4f}'.format(ENTR_APPROX))"
   ]
  },
  {
   "cell_type": "markdown",
   "metadata": {},
   "source": [
    "The entropy calculated given on the photon statistics of a **coherent state**"
   ]
  },
  {
   "cell_type": "code",
   "execution_count": 7,
   "metadata": {},
   "outputs": [
    {
     "name": "stdout",
     "output_type": "stream",
     "text": [
      "ENTROPY COHERENT: 2.9125\n"
     ]
    }
   ],
   "source": [
    "pns_cohe = [poisson.pmf(n, NBAR) for n in n_list]\n",
    "ENTR_COHE = - sum([pn * np.log(pn) for pn in pns_cohe if pn > 0])\n",
    "print('ENTROPY COHERENT: {:.4f}'.format(ENTR_COHE))"
   ]
  },
  {
   "cell_type": "code",
   "execution_count": 8,
   "metadata": {},
   "outputs": [
    {
     "data": {
      "application/pdf": "[encoded data removed]",
      "image/png": "[encoded data removed]",
      "text/plain": [
       "<matplotlib.figure.Figure at 0x7f969d5ef6a0>"
      ]
     },
     "metadata": {},
     "output_type": "display_data"
    }
   ],
   "source": [
    "fig, ax = plt.subplots(figsize=(12, 4))\n",
    "ax.bar(n_list, pns_cohe, width=0.5)\n",
    "# ax.set_xlim(100, 300)\n",
    "ax.set_title('Possion Distribution with an Average of 200', fontsize=14);"
   ]
  },
  {
   "cell_type": "markdown",
   "metadata": {},
   "source": [
    "The entropy calculated given on the photon statistics a **thermal state**"
   ]
  },
  {
   "cell_type": "code",
   "execution_count": 9,
   "metadata": {},
   "outputs": [
    {
     "name": "stdout",
     "output_type": "stream",
     "text": [
      "ENTROPY THERMAL: 4.0203\n"
     ]
    }
   ],
   "source": [
    "ratio = 20/21.0\n",
    "pns_thml = laser.boltzmann(ratio, N_max + 1000)\n",
    "ENTR_THML = - sum([pn * np.log(pn) for pn in pns_thml if pn > 0])\n",
    "print('ENTROPY THERMAL: {:.4f}'.format(ENTR_THML))"
   ]
  },
  {
   "cell_type": "code",
   "execution_count": 10,
   "metadata": {},
   "outputs": [
    {
     "data": {
      "application/pdf": "[encoded data removed]",
      "image/png": "[encoded data removed]",
      "text/plain": [
       "<matplotlib.figure.Figure at 0x7f96cc05c780>"
      ]
     },
     "metadata": {},
     "output_type": "display_data"
    }
   ],
   "source": [
    "fig, ax = plt.subplots(figsize=(12, 4))\n",
    "ax.bar(n_list, pns_thml[:N_max], width=0.5)\n",
    "ax.set_title('Thermal Distribution with an Average of 200', fontsize=14);"
   ]
  },
  {
   "cell_type": "code",
   "execution_count": 11,
   "metadata": {},
   "outputs": [
    {
     "data": {
      "text/plain": [
       "19.087461200255163"
      ]
     },
     "execution_count": 11,
     "metadata": {},
     "output_type": "execute_result"
    }
   ],
   "source": [
    "sum(i * pns_thml[i] for i in n_list)"
   ]
  },
  {
   "cell_type": "markdown",
   "metadata": {},
   "source": [
    "### Small A/C Ratios"
   ]
  },
  {
   "cell_type": "code",
   "execution_count": 12,
   "metadata": {},
   "outputs": [
    {
     "name": "stdout",
     "output_type": "stream",
     "text": [
      "ratio:  1.05, ra: 0.8400, A: 1.050e-03, C: 1.000e-03, B: 2.625e-06\n"
     ]
    },
    {
     "name": "stderr",
     "output_type": "stream",
     "text": [
      "/home/rigel/anaconda3/envs/qutip-env/lib/python3.6/site-packages/scipy/integrate/odepack.py:218: ODEintWarning: Excess work done on this call (perhaps wrong Dfun type). Run with full_output = 1 to get quantitative information.\n",
      "  warnings.warn(warning_msg, ODEintWarning)\n"
     ]
    },
    {
     "name": "stdout",
     "output_type": "stream",
     "text": [
      "ratio:  1.10, ra: 0.4400, A: 1.100e-03, C: 1.000e-03, B: 5.500e-06\n",
      "ratio:  1.20, ra: 0.2400, A: 1.200e-03, C: 1.000e-03, B: 1.200e-05\n",
      "CPU times: user 58min 38s, sys: 12.4 s, total: 58min 51s\n",
      "Wall time: 54min 35s\n"
     ]
    }
   ],
   "source": [
    "ratios1 = (1.05, 1.1, 1.2)\n",
    "t_list1 = np.linspace(0, 40000, 101)\n",
    "%time l1, n1, entr1 = entropy_utils.entropy_vs_ratio( \\\n",
    "                            ratios1, t_list1, G, KAPPA, NBAR, N_max, init_psi, solver='rho')"
   ]
  },
  {
   "cell_type": "code",
   "execution_count": 13,
   "metadata": {
    "collapsed": true
   },
   "outputs": [],
   "source": [
    "n1_df = pd.DataFrame(n1, columns=n1.keys() )\n",
    "entr1_df = pd.DataFrame(entr1, columns=entr1.keys())\n",
    "\n",
    "n1_df.to_csv('./data/sv_n1_df.csv', index=False)\n",
    "entr1_df.to_csv('./data/sv_entropy1_df.csv', index=False)\n",
    "np.savez('./data/sv_l1.npz', lasers=l1)"
   ]
  },
  {
   "cell_type": "code",
   "execution_count": 14,
   "metadata": {},
   "outputs": [],
   "source": [
    "# n1_df = pd.read_csv('./data/sv_n1_df.csv')\n",
    "# entropy_utils.df_plot(n1_df, xlim=(-2, 42), ylim=(-2, 25), \\\n",
    "#                       style = ['-', '-.', ':', '--'], \\\n",
    "#                       xlabel=r'$gt$', ylabel=r'$\\bar{n}$ (mean photon number)')\n",
    "# plt.title(r'Evolution of $\\bar{n}$ under Different $A/C$', fontsize=14);"
   ]
  },
  {
   "cell_type": "code",
   "execution_count": 15,
   "metadata": {},
   "outputs": [],
   "source": [
    "# entr1_df = pd.read_csv('./data/sv_entropy1_df.csv')\n",
    "# entropy_utils.df_plot(entr1_df, xlim=(-2, 42), ylim=(-0.5, 4.5), \\\n",
    "#                       xlabel=r'$gt$', ylabel=r'$S$ (entropy)', \\\n",
    "#                       style = ['-', '-.', ':', '--'], \\\n",
    "#                       entr_cohe=ENTR_COHE, entr_thml=False)\n",
    "# plt.title(r'Evolution of $S$ under Different $A/C$', fontsize=14);"
   ]
  },
  {
   "cell_type": "markdown",
   "metadata": {},
   "source": [
    "### Large Ratios"
   ]
  },
  {
   "cell_type": "code",
   "execution_count": 16,
   "metadata": {},
   "outputs": [
    {
     "name": "stdout",
     "output_type": "stream",
     "text": [
      "ratio:  1.50, ra: 0.1200, A: 1.500e-03, C: 1.000e-03, B: 3.750e-05\n"
     ]
    },
    {
     "name": "stderr",
     "output_type": "stream",
     "text": [
      "/home/rigel/anaconda3/envs/qutip-env/lib/python3.6/site-packages/scipy/integrate/odepack.py:218: ODEintWarning: Excess work done on this call (perhaps wrong Dfun type). Run with full_output = 1 to get quantitative information.\n",
      "  warnings.warn(warning_msg, ODEintWarning)\n"
     ]
    },
    {
     "name": "stdout",
     "output_type": "stream",
     "text": [
      "ratio:  2.00, ra: 0.0800, A: 2.000e-03, C: 1.000e-03, B: 1.000e-04\n",
      "ratio:  4.00, ra: 0.0533, A: 4.000e-03, C: 1.000e-03, B: 6.000e-04\n",
      "ratio:  8.00, ra: 0.0457, A: 8.000e-03, C: 1.000e-03, B: 2.800e-03\n"
     ]
    },
    {
     "ename": "ValueError",
     "evalue": "array must not contain infs or NaNs",
     "output_type": "error",
     "traceback": [
      "\u001b[0;31m---------------------------------------------------------------------------\u001b[0m",
      "\u001b[0;31mValueError\u001b[0m                                Traceback (most recent call last)",
      "\u001b[0;32m<timed exec>\u001b[0m in \u001b[0;36m<module>\u001b[0;34m()\u001b[0m\n",
      "\u001b[0;32m/home/rigel/code_research/py_vn_entropy/entropy_utils.py\u001b[0m in \u001b[0;36mentropy_vs_ratio\u001b[0;34m(ratios, t_list, g, kappa, nbar, N_max, init_psi, solver)\u001b[0m\n\u001b[1;32m     94\u001b[0m     \"\"\" simulate lasers with different A/C ratios\n\u001b[1;32m     95\u001b[0m     \"\"\"\n\u001b[0;32m---> 96\u001b[0;31m     \u001b[0ml_array\u001b[0m \u001b[0;34m=\u001b[0m \u001b[0;34m[\u001b[0m\u001b[0mevolution\u001b[0m\u001b[0;34m(\u001b[0m\u001b[0malpha\u001b[0m\u001b[0;34m,\u001b[0m \u001b[0mt_list\u001b[0m\u001b[0;34m,\u001b[0m \u001b[0mg\u001b[0m\u001b[0;34m,\u001b[0m \u001b[0mkappa\u001b[0m\u001b[0;34m,\u001b[0m \u001b[0mnbar\u001b[0m\u001b[0;34m,\u001b[0m \u001b[0mN_max\u001b[0m\u001b[0;34m,\u001b[0m \u001b[0minit_psi\u001b[0m\u001b[0;34m,\u001b[0m \u001b[0msolver\u001b[0m\u001b[0;34m)\u001b[0m \u001b[0;32mfor\u001b[0m \u001b[0malpha\u001b[0m \u001b[0;32min\u001b[0m \u001b[0mratios\u001b[0m\u001b[0;34m]\u001b[0m\u001b[0;34m\u001b[0m\u001b[0m\n\u001b[0m\u001b[1;32m     97\u001b[0m \u001b[0;34m\u001b[0m\u001b[0m\n\u001b[1;32m     98\u001b[0m     \u001b[0mn_dict\u001b[0m \u001b[0;34m=\u001b[0m \u001b[0;34m{\u001b[0m\u001b[0;34m'gt'\u001b[0m\u001b[0;34m:\u001b[0m \u001b[0mt_list\u001b[0m \u001b[0;34m*\u001b[0m \u001b[0mg\u001b[0m\u001b[0;34m}\u001b[0m\u001b[0;34m\u001b[0m\u001b[0m\n",
      "\u001b[0;32m/home/rigel/code_research/py_vn_entropy/entropy_utils.py\u001b[0m in \u001b[0;36m<listcomp>\u001b[0;34m(.0)\u001b[0m\n\u001b[1;32m     94\u001b[0m     \"\"\" simulate lasers with different A/C ratios\n\u001b[1;32m     95\u001b[0m     \"\"\"\n\u001b[0;32m---> 96\u001b[0;31m     \u001b[0ml_array\u001b[0m \u001b[0;34m=\u001b[0m \u001b[0;34m[\u001b[0m\u001b[0mevolution\u001b[0m\u001b[0;34m(\u001b[0m\u001b[0malpha\u001b[0m\u001b[0;34m,\u001b[0m \u001b[0mt_list\u001b[0m\u001b[0;34m,\u001b[0m \u001b[0mg\u001b[0m\u001b[0;34m,\u001b[0m \u001b[0mkappa\u001b[0m\u001b[0;34m,\u001b[0m \u001b[0mnbar\u001b[0m\u001b[0;34m,\u001b[0m \u001b[0mN_max\u001b[0m\u001b[0;34m,\u001b[0m \u001b[0minit_psi\u001b[0m\u001b[0;34m,\u001b[0m \u001b[0msolver\u001b[0m\u001b[0;34m)\u001b[0m \u001b[0;32mfor\u001b[0m \u001b[0malpha\u001b[0m \u001b[0;32min\u001b[0m \u001b[0mratios\u001b[0m\u001b[0;34m]\u001b[0m\u001b[0;34m\u001b[0m\u001b[0m\n\u001b[0m\u001b[1;32m     97\u001b[0m \u001b[0;34m\u001b[0m\u001b[0m\n\u001b[1;32m     98\u001b[0m     \u001b[0mn_dict\u001b[0m \u001b[0;34m=\u001b[0m \u001b[0;34m{\u001b[0m\u001b[0;34m'gt'\u001b[0m\u001b[0;34m:\u001b[0m \u001b[0mt_list\u001b[0m \u001b[0;34m*\u001b[0m \u001b[0mg\u001b[0m\u001b[0;34m}\u001b[0m\u001b[0;34m\u001b[0m\u001b[0m\n",
      "\u001b[0;32m/home/rigel/code_research/py_vn_entropy/entropy_utils.py\u001b[0m in \u001b[0;36mevolution\u001b[0;34m(alpha, t_list, g, kappa, nbar, N_max, init_psi, solver)\u001b[0m\n\u001b[1;32m     68\u001b[0m         \u001b[0ml\u001b[0m\u001b[0;34m.\u001b[0m\u001b[0mpn_evolve\u001b[0m\u001b[0;34m(\u001b[0m\u001b[0minit_psi\u001b[0m\u001b[0;34m,\u001b[0m \u001b[0mN_max\u001b[0m\u001b[0;34m,\u001b[0m \u001b[0mt_list\u001b[0m\u001b[0;34m)\u001b[0m\u001b[0;34m\u001b[0m\u001b[0m\n\u001b[1;32m     69\u001b[0m     \u001b[0;32melif\u001b[0m \u001b[0msolver\u001b[0m \u001b[0;34m==\u001b[0m \u001b[0;34m'rho'\u001b[0m\u001b[0;34m:\u001b[0m\u001b[0;34m\u001b[0m\u001b[0m\n\u001b[0;32m---> 70\u001b[0;31m         \u001b[0ml\u001b[0m\u001b[0;34m.\u001b[0m\u001b[0mrho_evolve\u001b[0m\u001b[0;34m(\u001b[0m\u001b[0minit_psi\u001b[0m\u001b[0;34m,\u001b[0m \u001b[0mN_max\u001b[0m\u001b[0;34m,\u001b[0m \u001b[0mt_list\u001b[0m\u001b[0;34m)\u001b[0m\u001b[0;34m\u001b[0m\u001b[0m\n\u001b[0m\u001b[1;32m     71\u001b[0m     \u001b[0mkey\u001b[0m \u001b[0;34m=\u001b[0m \u001b[0;34m'{:.2f}'\u001b[0m\u001b[0;34m.\u001b[0m\u001b[0mformat\u001b[0m\u001b[0;34m(\u001b[0m\u001b[0malpha\u001b[0m\u001b[0;34m)\u001b[0m\u001b[0;34m\u001b[0m\u001b[0m\n\u001b[1;32m     72\u001b[0m \u001b[0;34m\u001b[0m\u001b[0m\n",
      "\u001b[0;32m/home/rigel/code_research/py_vn_entropy/laser.py\u001b[0m in \u001b[0;36mrho_evolve\u001b[0;34m(self, init_rho, N_max, t_list)\u001b[0m\n\u001b[1;32m    190\u001b[0m \u001b[0;34m\u001b[0m\u001b[0m\n\u001b[1;32m    191\u001b[0m         \u001b[0;31m# find von Neumann entropy\u001b[0m\u001b[0;34m\u001b[0m\u001b[0;34m\u001b[0m\u001b[0m\n\u001b[0;32m--> 192\u001b[0;31m         \u001b[0mself\u001b[0m\u001b[0;34m.\u001b[0m\u001b[0mentr_vs_t\u001b[0m \u001b[0;34m=\u001b[0m \u001b[0mnp\u001b[0m\u001b[0;34m.\u001b[0m\u001b[0marray\u001b[0m\u001b[0;34m(\u001b[0m\u001b[0;34m[\u001b[0m\u001b[0mentropy_vn\u001b[0m\u001b[0;34m(\u001b[0m\u001b[0mrho\u001b[0m\u001b[0;34m)\u001b[0m \u001b[0;32mfor\u001b[0m \u001b[0mrho\u001b[0m \u001b[0;32min\u001b[0m \u001b[0mself\u001b[0m\u001b[0;34m.\u001b[0m\u001b[0mrho_vs_t\u001b[0m\u001b[0;34m]\u001b[0m\u001b[0;34m)\u001b[0m\u001b[0;34m\u001b[0m\u001b[0m\n\u001b[0m\u001b[1;32m    193\u001b[0m \u001b[0;34m\u001b[0m\u001b[0m\n\u001b[1;32m    194\u001b[0m \u001b[0;34m\u001b[0m\u001b[0m\n",
      "\u001b[0;32m/home/rigel/code_research/py_vn_entropy/laser.py\u001b[0m in \u001b[0;36m<listcomp>\u001b[0;34m(.0)\u001b[0m\n\u001b[1;32m    190\u001b[0m \u001b[0;34m\u001b[0m\u001b[0m\n\u001b[1;32m    191\u001b[0m         \u001b[0;31m# find von Neumann entropy\u001b[0m\u001b[0;34m\u001b[0m\u001b[0;34m\u001b[0m\u001b[0m\n\u001b[0;32m--> 192\u001b[0;31m         \u001b[0mself\u001b[0m\u001b[0;34m.\u001b[0m\u001b[0mentr_vs_t\u001b[0m \u001b[0;34m=\u001b[0m \u001b[0mnp\u001b[0m\u001b[0;34m.\u001b[0m\u001b[0marray\u001b[0m\u001b[0;34m(\u001b[0m\u001b[0;34m[\u001b[0m\u001b[0mentropy_vn\u001b[0m\u001b[0;34m(\u001b[0m\u001b[0mrho\u001b[0m\u001b[0;34m)\u001b[0m \u001b[0;32mfor\u001b[0m \u001b[0mrho\u001b[0m \u001b[0;32min\u001b[0m \u001b[0mself\u001b[0m\u001b[0;34m.\u001b[0m\u001b[0mrho_vs_t\u001b[0m\u001b[0;34m]\u001b[0m\u001b[0;34m)\u001b[0m\u001b[0;34m\u001b[0m\u001b[0m\n\u001b[0m\u001b[1;32m    193\u001b[0m \u001b[0;34m\u001b[0m\u001b[0m\n\u001b[1;32m    194\u001b[0m \u001b[0;34m\u001b[0m\u001b[0m\n",
      "\u001b[0;32m/home/rigel/anaconda3/envs/qutip-env/lib/python3.6/site-packages/qutip/entropy.py\u001b[0m in \u001b[0;36mentropy_vn\u001b[0;34m(rho, base, sparse)\u001b[0m\n\u001b[1;32m     73\u001b[0m     \u001b[0;32mif\u001b[0m \u001b[0mrho\u001b[0m\u001b[0;34m.\u001b[0m\u001b[0mtype\u001b[0m \u001b[0;34m==\u001b[0m \u001b[0;34m'ket'\u001b[0m \u001b[0;32mor\u001b[0m \u001b[0mrho\u001b[0m\u001b[0;34m.\u001b[0m\u001b[0mtype\u001b[0m \u001b[0;34m==\u001b[0m \u001b[0;34m'bra'\u001b[0m\u001b[0;34m:\u001b[0m\u001b[0;34m\u001b[0m\u001b[0m\n\u001b[1;32m     74\u001b[0m         \u001b[0mrho\u001b[0m \u001b[0;34m=\u001b[0m \u001b[0mket2dm\u001b[0m\u001b[0;34m(\u001b[0m\u001b[0mrho\u001b[0m\u001b[0;34m)\u001b[0m\u001b[0;34m\u001b[0m\u001b[0m\n\u001b[0;32m---> 75\u001b[0;31m     \u001b[0mvals\u001b[0m \u001b[0;34m=\u001b[0m \u001b[0msp_eigs\u001b[0m\u001b[0;34m(\u001b[0m\u001b[0mrho\u001b[0m\u001b[0;34m.\u001b[0m\u001b[0mdata\u001b[0m\u001b[0;34m,\u001b[0m \u001b[0mrho\u001b[0m\u001b[0;34m.\u001b[0m\u001b[0misherm\u001b[0m\u001b[0;34m,\u001b[0m \u001b[0mvecs\u001b[0m\u001b[0;34m=\u001b[0m\u001b[0;32mFalse\u001b[0m\u001b[0;34m,\u001b[0m \u001b[0msparse\u001b[0m\u001b[0;34m=\u001b[0m\u001b[0msparse\u001b[0m\u001b[0;34m)\u001b[0m\u001b[0;34m\u001b[0m\u001b[0m\n\u001b[0m\u001b[1;32m     76\u001b[0m     \u001b[0mnzvals\u001b[0m \u001b[0;34m=\u001b[0m \u001b[0mvals\u001b[0m\u001b[0;34m[\u001b[0m\u001b[0mvals\u001b[0m \u001b[0;34m!=\u001b[0m \u001b[0;36m0\u001b[0m\u001b[0;34m]\u001b[0m\u001b[0;34m\u001b[0m\u001b[0m\n\u001b[1;32m     77\u001b[0m     \u001b[0;32mif\u001b[0m \u001b[0mbase\u001b[0m \u001b[0;34m==\u001b[0m \u001b[0;36m2\u001b[0m\u001b[0;34m:\u001b[0m\u001b[0;34m\u001b[0m\u001b[0m\n",
      "\u001b[0;32m/home/rigel/anaconda3/envs/qutip-env/lib/python3.6/site-packages/qutip/sparse.py\u001b[0m in \u001b[0;36msp_eigs\u001b[0;34m(data, isherm, vecs, sparse, sort, eigvals, tol, maxiter)\u001b[0m\n\u001b[1;32m    372\u001b[0m     \u001b[0;32melse\u001b[0m\u001b[0;34m:\u001b[0m\u001b[0;34m\u001b[0m\u001b[0m\n\u001b[1;32m    373\u001b[0m         evals, evecs = _dense_eigs(data.todense(), isherm, vecs, N, eigvals,\n\u001b[0;32m--> 374\u001b[0;31m                                    num_large, num_small)\n\u001b[0m\u001b[1;32m    375\u001b[0m \u001b[0;34m\u001b[0m\u001b[0m\n\u001b[1;32m    376\u001b[0m     \u001b[0;32mif\u001b[0m \u001b[0msort\u001b[0m \u001b[0;34m==\u001b[0m \u001b[0;34m'high'\u001b[0m\u001b[0;34m:\u001b[0m  \u001b[0;31m# flip arrays to largest values first\u001b[0m\u001b[0;34m\u001b[0m\u001b[0m\n",
      "\u001b[0;32m/home/rigel/anaconda3/envs/qutip-env/lib/python3.6/site-packages/qutip/sparse.py\u001b[0m in \u001b[0;36m_dense_eigs\u001b[0;34m(data, isherm, vecs, N, eigvals, num_large, num_small)\u001b[0m\n\u001b[1;32m    190\u001b[0m                     \u001b[0mevals\u001b[0m \u001b[0;34m=\u001b[0m \u001b[0mla\u001b[0m\u001b[0;34m.\u001b[0m\u001b[0meigvalsh\u001b[0m\u001b[0;34m(\u001b[0m\u001b[0mdata\u001b[0m\u001b[0;34m,\u001b[0m \u001b[0meigvals\u001b[0m\u001b[0;34m=\u001b[0m\u001b[0;34m[\u001b[0m\u001b[0mN\u001b[0m \u001b[0;34m-\u001b[0m \u001b[0mnum_large\u001b[0m\u001b[0;34m,\u001b[0m \u001b[0mN\u001b[0m \u001b[0;34m-\u001b[0m \u001b[0;36m1\u001b[0m\u001b[0;34m]\u001b[0m\u001b[0;34m)\u001b[0m\u001b[0;34m\u001b[0m\u001b[0m\n\u001b[1;32m    191\u001b[0m         \u001b[0;32melse\u001b[0m\u001b[0;34m:\u001b[0m\u001b[0;34m\u001b[0m\u001b[0m\n\u001b[0;32m--> 192\u001b[0;31m             \u001b[0mevals\u001b[0m \u001b[0;34m=\u001b[0m \u001b[0mla\u001b[0m\u001b[0;34m.\u001b[0m\u001b[0meigvals\u001b[0m\u001b[0;34m(\u001b[0m\u001b[0mdata\u001b[0m\u001b[0;34m)\u001b[0m\u001b[0;34m\u001b[0m\u001b[0m\n\u001b[0m\u001b[1;32m    193\u001b[0m \u001b[0;34m\u001b[0m\u001b[0m\n\u001b[1;32m    194\u001b[0m     \u001b[0m_zipped\u001b[0m \u001b[0;34m=\u001b[0m \u001b[0mlist\u001b[0m\u001b[0;34m(\u001b[0m\u001b[0mzip\u001b[0m\u001b[0;34m(\u001b[0m\u001b[0mevals\u001b[0m\u001b[0;34m,\u001b[0m \u001b[0mrange\u001b[0m\u001b[0;34m(\u001b[0m\u001b[0mlen\u001b[0m\u001b[0;34m(\u001b[0m\u001b[0mevals\u001b[0m\u001b[0;34m)\u001b[0m\u001b[0;34m)\u001b[0m\u001b[0;34m)\u001b[0m\u001b[0;34m)\u001b[0m\u001b[0;34m\u001b[0m\u001b[0m\n",
      "\u001b[0;32m/home/rigel/anaconda3/envs/qutip-env/lib/python3.6/site-packages/scipy/linalg/decomp.py\u001b[0m in \u001b[0;36meigvals\u001b[0;34m(a, b, overwrite_a, check_finite, homogeneous_eigvals)\u001b[0m\n\u001b[1;32m    656\u001b[0m     return eig(a, b=b, left=0, right=0, overwrite_a=overwrite_a,\n\u001b[1;32m    657\u001b[0m                \u001b[0mcheck_finite\u001b[0m\u001b[0;34m=\u001b[0m\u001b[0mcheck_finite\u001b[0m\u001b[0;34m,\u001b[0m\u001b[0;34m\u001b[0m\u001b[0m\n\u001b[0;32m--> 658\u001b[0;31m                homogeneous_eigvals=homogeneous_eigvals)\n\u001b[0m\u001b[1;32m    659\u001b[0m \u001b[0;34m\u001b[0m\u001b[0m\n\u001b[1;32m    660\u001b[0m \u001b[0;34m\u001b[0m\u001b[0m\n",
      "\u001b[0;32m/home/rigel/anaconda3/envs/qutip-env/lib/python3.6/site-packages/scipy/linalg/decomp.py\u001b[0m in \u001b[0;36meig\u001b[0;34m(a, b, left, right, overwrite_a, overwrite_b, check_finite, homogeneous_eigvals)\u001b[0m\n\u001b[1;32m    180\u001b[0m \u001b[0;34m\u001b[0m\u001b[0m\n\u001b[1;32m    181\u001b[0m     \"\"\"\n\u001b[0;32m--> 182\u001b[0;31m     \u001b[0ma1\u001b[0m \u001b[0;34m=\u001b[0m \u001b[0m_asarray_validated\u001b[0m\u001b[0;34m(\u001b[0m\u001b[0ma\u001b[0m\u001b[0;34m,\u001b[0m \u001b[0mcheck_finite\u001b[0m\u001b[0;34m=\u001b[0m\u001b[0mcheck_finite\u001b[0m\u001b[0;34m)\u001b[0m\u001b[0;34m\u001b[0m\u001b[0m\n\u001b[0m\u001b[1;32m    183\u001b[0m     \u001b[0;32mif\u001b[0m \u001b[0mlen\u001b[0m\u001b[0;34m(\u001b[0m\u001b[0ma1\u001b[0m\u001b[0;34m.\u001b[0m\u001b[0mshape\u001b[0m\u001b[0;34m)\u001b[0m \u001b[0;34m!=\u001b[0m \u001b[0;36m2\u001b[0m \u001b[0;32mor\u001b[0m \u001b[0ma1\u001b[0m\u001b[0;34m.\u001b[0m\u001b[0mshape\u001b[0m\u001b[0;34m[\u001b[0m\u001b[0;36m0\u001b[0m\u001b[0;34m]\u001b[0m \u001b[0;34m!=\u001b[0m \u001b[0ma1\u001b[0m\u001b[0;34m.\u001b[0m\u001b[0mshape\u001b[0m\u001b[0;34m[\u001b[0m\u001b[0;36m1\u001b[0m\u001b[0;34m]\u001b[0m\u001b[0;34m:\u001b[0m\u001b[0;34m\u001b[0m\u001b[0m\n\u001b[1;32m    184\u001b[0m         \u001b[0;32mraise\u001b[0m \u001b[0mValueError\u001b[0m\u001b[0;34m(\u001b[0m\u001b[0;34m'expected square matrix'\u001b[0m\u001b[0;34m)\u001b[0m\u001b[0;34m\u001b[0m\u001b[0m\n",
      "\u001b[0;32m/home/rigel/anaconda3/envs/qutip-env/lib/python3.6/site-packages/scipy/_lib/_util.py\u001b[0m in \u001b[0;36m_asarray_validated\u001b[0;34m(a, check_finite, sparse_ok, objects_ok, mask_ok, as_inexact)\u001b[0m\n\u001b[1;32m    236\u001b[0m             \u001b[0;32mraise\u001b[0m \u001b[0mValueError\u001b[0m\u001b[0;34m(\u001b[0m\u001b[0;34m'masked arrays are not supported'\u001b[0m\u001b[0;34m)\u001b[0m\u001b[0;34m\u001b[0m\u001b[0m\n\u001b[1;32m    237\u001b[0m     \u001b[0mtoarray\u001b[0m \u001b[0;34m=\u001b[0m \u001b[0mnp\u001b[0m\u001b[0;34m.\u001b[0m\u001b[0masarray_chkfinite\u001b[0m \u001b[0;32mif\u001b[0m \u001b[0mcheck_finite\u001b[0m \u001b[0;32melse\u001b[0m \u001b[0mnp\u001b[0m\u001b[0;34m.\u001b[0m\u001b[0masarray\u001b[0m\u001b[0;34m\u001b[0m\u001b[0m\n\u001b[0;32m--> 238\u001b[0;31m     \u001b[0ma\u001b[0m \u001b[0;34m=\u001b[0m \u001b[0mtoarray\u001b[0m\u001b[0;34m(\u001b[0m\u001b[0ma\u001b[0m\u001b[0;34m)\u001b[0m\u001b[0;34m\u001b[0m\u001b[0m\n\u001b[0m\u001b[1;32m    239\u001b[0m     \u001b[0;32mif\u001b[0m \u001b[0;32mnot\u001b[0m \u001b[0mobjects_ok\u001b[0m\u001b[0;34m:\u001b[0m\u001b[0;34m\u001b[0m\u001b[0m\n\u001b[1;32m    240\u001b[0m         \u001b[0;32mif\u001b[0m \u001b[0ma\u001b[0m\u001b[0;34m.\u001b[0m\u001b[0mdtype\u001b[0m \u001b[0;32mis\u001b[0m \u001b[0mnp\u001b[0m\u001b[0;34m.\u001b[0m\u001b[0mdtype\u001b[0m\u001b[0;34m(\u001b[0m\u001b[0;34m'O'\u001b[0m\u001b[0;34m)\u001b[0m\u001b[0;34m:\u001b[0m\u001b[0;34m\u001b[0m\u001b[0m\n",
      "\u001b[0;32m/home/rigel/anaconda3/envs/qutip-env/lib/python3.6/site-packages/numpy/lib/function_base.py\u001b[0m in \u001b[0;36masarray_chkfinite\u001b[0;34m(a, dtype, order)\u001b[0m\n\u001b[1;32m   1213\u001b[0m     \u001b[0;32mif\u001b[0m \u001b[0ma\u001b[0m\u001b[0;34m.\u001b[0m\u001b[0mdtype\u001b[0m\u001b[0;34m.\u001b[0m\u001b[0mchar\u001b[0m \u001b[0;32min\u001b[0m \u001b[0mtypecodes\u001b[0m\u001b[0;34m[\u001b[0m\u001b[0;34m'AllFloat'\u001b[0m\u001b[0;34m]\u001b[0m \u001b[0;32mand\u001b[0m \u001b[0;32mnot\u001b[0m \u001b[0mnp\u001b[0m\u001b[0;34m.\u001b[0m\u001b[0misfinite\u001b[0m\u001b[0;34m(\u001b[0m\u001b[0ma\u001b[0m\u001b[0;34m)\u001b[0m\u001b[0;34m.\u001b[0m\u001b[0mall\u001b[0m\u001b[0;34m(\u001b[0m\u001b[0;34m)\u001b[0m\u001b[0;34m:\u001b[0m\u001b[0;34m\u001b[0m\u001b[0m\n\u001b[1;32m   1214\u001b[0m         raise ValueError(\n\u001b[0;32m-> 1215\u001b[0;31m             \"array must not contain infs or NaNs\")\n\u001b[0m\u001b[1;32m   1216\u001b[0m     \u001b[0;32mreturn\u001b[0m \u001b[0ma\u001b[0m\u001b[0;34m\u001b[0m\u001b[0m\n\u001b[1;32m   1217\u001b[0m \u001b[0;34m\u001b[0m\u001b[0m\n",
      "\u001b[0;31mValueError\u001b[0m: array must not contain infs or NaNs"
     ]
    }
   ],
   "source": [
    "ratios2 = (1.5, 2, 4, 8)\n",
    "t_list2 = np.linspace(0, 20000, 101)\n",
    "%time l2, n2, entr2 = entropy_utils.entropy_vs_ratio( \\\n",
    "                        ratios2, t_list2, G, KAPPA, NBAR, N_max, init_psi, solver='rho')"
   ]
  },
  {
   "cell_type": "code",
   "execution_count": 17,
   "metadata": {},
   "outputs": [
    {
     "ename": "NameError",
     "evalue": "name 'n2' is not defined",
     "output_type": "error",
     "traceback": [
      "\u001b[0;31m---------------------------------------------------------------------------\u001b[0m",
      "\u001b[0;31mNameError\u001b[0m                                 Traceback (most recent call last)",
      "\u001b[0;32m<ipython-input-17-aae4fe9d711d>\u001b[0m in \u001b[0;36m<module>\u001b[0;34m()\u001b[0m\n\u001b[0;32m----> 1\u001b[0;31m \u001b[0mn2_df\u001b[0m \u001b[0;34m=\u001b[0m \u001b[0mpd\u001b[0m\u001b[0;34m.\u001b[0m\u001b[0mDataFrame\u001b[0m\u001b[0;34m(\u001b[0m\u001b[0mn2\u001b[0m\u001b[0;34m,\u001b[0m \u001b[0mcolumns\u001b[0m\u001b[0;34m=\u001b[0m\u001b[0mn2\u001b[0m\u001b[0;34m.\u001b[0m\u001b[0mkeys\u001b[0m\u001b[0;34m(\u001b[0m\u001b[0;34m)\u001b[0m \u001b[0;34m)\u001b[0m\u001b[0;34m\u001b[0m\u001b[0m\n\u001b[0m\u001b[1;32m      2\u001b[0m \u001b[0mentr2_df\u001b[0m \u001b[0;34m=\u001b[0m \u001b[0mpd\u001b[0m\u001b[0;34m.\u001b[0m\u001b[0mDataFrame\u001b[0m\u001b[0;34m(\u001b[0m\u001b[0mentr2\u001b[0m\u001b[0;34m,\u001b[0m \u001b[0mcolumns\u001b[0m\u001b[0;34m=\u001b[0m\u001b[0mentr2\u001b[0m\u001b[0;34m.\u001b[0m\u001b[0mkeys\u001b[0m\u001b[0;34m(\u001b[0m\u001b[0;34m)\u001b[0m\u001b[0;34m)\u001b[0m\u001b[0;34m\u001b[0m\u001b[0m\n\u001b[1;32m      3\u001b[0m \u001b[0;34m\u001b[0m\u001b[0m\n\u001b[1;32m      4\u001b[0m \u001b[0mn2_df\u001b[0m\u001b[0;34m.\u001b[0m\u001b[0mto_csv\u001b[0m\u001b[0;34m(\u001b[0m\u001b[0;34m'./data/sv_n2_df.csv'\u001b[0m\u001b[0;34m,\u001b[0m \u001b[0mindex\u001b[0m\u001b[0;34m=\u001b[0m\u001b[0;32mFalse\u001b[0m\u001b[0;34m)\u001b[0m\u001b[0;34m\u001b[0m\u001b[0m\n\u001b[1;32m      5\u001b[0m \u001b[0mentr2_df\u001b[0m\u001b[0;34m.\u001b[0m\u001b[0mto_csv\u001b[0m\u001b[0;34m(\u001b[0m\u001b[0;34m'./data/sv_entropy2_df.csv'\u001b[0m\u001b[0;34m,\u001b[0m \u001b[0mindex\u001b[0m\u001b[0;34m=\u001b[0m\u001b[0;32mFalse\u001b[0m\u001b[0;34m)\u001b[0m\u001b[0;34m\u001b[0m\u001b[0m\n",
      "\u001b[0;31mNameError\u001b[0m: name 'n2' is not defined"
     ]
    }
   ],
   "source": [
    "n2_df = pd.DataFrame(n2, columns=n2.keys() )\n",
    "entr2_df = pd.DataFrame(entr2, columns=entr2.keys())\n",
    "\n",
    "n2_df.to_csv('./data/sv_n2_df.csv', index=False)\n",
    "entr2_df.to_csv('./data/sv_entropy2_df.csv', index=False)\n",
    "np.savez('./data/sv_l2.npz', lasers=l2)"
   ]
  },
  {
   "cell_type": "code",
   "execution_count": null,
   "metadata": {},
   "outputs": [],
   "source": [
    "# n2_df = pd.read_csv('./data/sv_n3_df.csv')\n",
    "# entropy_utils.df_plot(n2_df, xlim=(-1, 10), ylim=(-2, 22), \\\n",
    "#                       style = ['-', '-.', ':', '--'], \\\n",
    "#                       xlabel=r'$gt$', ylabel=r'$\\bar{n}$ (mean photon number)')\n",
    "# plt.title(r'Evolution of $\\bar{n}$ under Different $A/C$', fontsize=14);"
   ]
  },
  {
   "cell_type": "code",
   "execution_count": null,
   "metadata": {
    "scrolled": false
   },
   "outputs": [],
   "source": [
    "# entr2_df = pd.read_csv('./data/sv_entropy3_df.csv')\n",
    "# entropy_utils.df_plot(entr2_df, xlim=(-2, 22), ylim=(0, 3.8), \\\n",
    "#                       xlabel=r'$gt$', ylabel=r'$S$ (entropy)', \\\n",
    "#                       style = ['-', '-.', ':', '--'], \\\n",
    "#                       entr_cohe=False)\n",
    "# plt.title(r'Evolution of $S$ under Different $A/C$', fontsize=14);"
   ]
  },
  {
   "cell_type": "markdown",
   "metadata": {},
   "source": [
    "### Extremely Large Ratios"
   ]
  },
  {
   "cell_type": "code",
   "execution_count": null,
   "metadata": {},
   "outputs": [],
   "source": [
    "ratios3 = (16, 64, 256)\n",
    "t_list3 = np.linspace(0, 10000, 101)\n",
    "%time l3, n3, entr3 = entropy_utils.entropy_vs_ratio( \\\n",
    "                        ratios3, t_list3, G, KAPPA, NBAR, N_max, init_psi, solver='rho')"
   ]
  },
  {
   "cell_type": "code",
   "execution_count": null,
   "metadata": {
    "collapsed": true
   },
   "outputs": [],
   "source": [
    "n3_df = pd.DataFrame(n3, columns=n3.keys() )\n",
    "entr3_df = pd.DataFrame(entr3, columns=entr3.keys())\n",
    "\n",
    "n3_df.to_csv('./data/sv_n3_df.csv', index=False)\n",
    "entr3_df.to_csv('./data/sv_entropy3_df.csv', index=False)\n",
    "np.savez('./data/sv_l3.npz', lasers=l3)"
   ]
  },
  {
   "cell_type": "code",
   "execution_count": null,
   "metadata": {},
   "outputs": [],
   "source": [
    "# n3_df = pd.read_csv('./data/sv_n3_df.csv')\n",
    "# entropy_utils.df_plot(n3_df, xlim=(-1, 11), ylim=(-2, 22), \\\n",
    "#                       style = ['-', '-.', ':', '--'], \\\n",
    "#                       xlabel=r'$gt$', ylabel=r'$\\bar{n}$ (mean photon number)')\n",
    "# plt.title(r'Evolution of $\\bar{n}$ under Different $A/C$', fontsize=14);"
   ]
  },
  {
   "cell_type": "code",
   "execution_count": null,
   "metadata": {},
   "outputs": [],
   "source": [
    "# entr3_df = pd.read_csv('./data/sv_entropy3_df.csv')\n",
    "# entropy_utils.df_plot(entr3_df, xlim=(-1, 11), ylim=(-0.5, 3.5), \\\n",
    "#                       xlabel=r'$gt$', ylabel=r'$S$ (entropy)', \\\n",
    "#                       style = ['-', '-.', ':', '--'], \\\n",
    "#                       entr_cohe=ENTR_COHE, entr_thml=ENTR_THML)\n",
    "# plt.title(r'Evolution of $S$ under Different $A/C$', fontsize=14);"
   ]
  },
  {
   "cell_type": "markdown",
   "metadata": {},
   "source": [
    "### Evolution of Photon Statistics for A/C = 4"
   ]
  },
  {
   "cell_type": "code",
   "execution_count": null,
   "metadata": {
    "collapsed": true
   },
   "outputs": [],
   "source": [
    "# laser4 = l2['5.00']"
   ]
  },
  {
   "cell_type": "code",
   "execution_count": null,
   "metadata": {
    "collapsed": true
   },
   "outputs": [],
   "source": [
    "# lstyle = ['-', '--', ':', '-.', '-']\n",
    "# lwidth = [1, 2, 2, 2, 2]\n",
    "# fig, ax = plt.subplots(sharex=True, figsize=(12, 4))\n",
    "# t_list4 = laser4.t_list\n",
    "# pns4 = laser4.get_pns()\n",
    "# gts = (3, 7, 10, 15, 100)\n",
    "# for i in range(len(gts)):\n",
    "#     pns = pns4[gts[i]]\n",
    "#     ax.plot(np.arange(N_max), pns, \\\n",
    "#             linestyle=lstyle[i], linewidth=lwidth[i], \\\n",
    "#             label='{:4.2f}'.format(t_list4[gts[i]] * G))\n",
    "# ax.set_xlim(0, 260)\n",
    "# ax.set_ylim(0, 0.06)\n",
    "# ax.set_xlabel(r'$n$ (photon number)', fontsize=14)\n",
    "# ax.set_ylabel(r'$p_n$ (probability)', fontsize=14)\n",
    "# ax.tick_params(labelsize=14)\n",
    "# ax.legend(fontsize=14)\n",
    "# plt.title(r'Photon Statistics under Different $gt$ $(A/C = 5)$', fontsize=14);"
   ]
  },
  {
   "cell_type": "markdown",
   "metadata": {},
   "source": [
    "### Evolution of Photon Statistics for A/C = 32"
   ]
  },
  {
   "cell_type": "code",
   "execution_count": null,
   "metadata": {
    "collapsed": true
   },
   "outputs": [],
   "source": [
    "# laser32 = l3['64.00']"
   ]
  },
  {
   "cell_type": "code",
   "execution_count": null,
   "metadata": {
    "collapsed": true
   },
   "outputs": [],
   "source": [
    "# lstyle = ['-', '--', ':', '-.', '-']\n",
    "# lwidth = [1, 2, 2, 2, 2]\n",
    "# fig, ax = plt.subplots(sharex=True, figsize=(12, 4))\n",
    "# t_list32 = laser32.t_list\n",
    "# pns32 = laser32.get_pns()\n",
    "# gts = (1, 4, 8, 15, 100)\n",
    "# for i in range(len(gts)):\n",
    "#     pns = pns32[gts[i]]\n",
    "#     ax.plot(np.arange(N_max), pns, \\\n",
    "#             linestyle=lstyle[i], linewidth=lwidth[i], \\\n",
    "#             label='{:4.2f}'.format(t_list32[gts[i]] * G))\n",
    "# ax.set_xlim(0, 260)\n",
    "# ax.set_ylim(0, 0.06)\n",
    "# ax.tick_params(labelsize=14)\n",
    "# ax.set_xlabel(r'$n$ (photon number)', fontsize=14)\n",
    "# ax.set_ylabel(r'$p_n$ (probability)', fontsize=14)\n",
    "# plt.title(r'Photon Statistics under Different $gt$ $(A/C = 64)$', fontsize=14);\n",
    "# ax.legend(fontsize=14);"
   ]
  },
  {
   "cell_type": "code",
   "execution_count": null,
   "metadata": {
    "collapsed": true
   },
   "outputs": [],
   "source": []
  }
 ],
 "metadata": {
  "anaconda-cloud": {},
  "kernelspec": {
   "display_name": "Python 3",
   "language": "python",
   "name": "python3"
  },
  "language_info": {
   "codemirror_mode": {
    "name": "ipython",
    "version": 3
   },
   "file_extension": ".py",
   "mimetype": "text/x-python",
   "name": "python",
   "nbconvert_exporter": "python",
   "pygments_lexer": "ipython3",
   "version": "3.6.1"
  }
 },
 "nbformat": 4,
 "nbformat_minor": 2
}
