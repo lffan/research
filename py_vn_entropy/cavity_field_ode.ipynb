{
 "cells": [
  {
   "cell_type": "code",
   "execution_count": 38,
   "metadata": {
    "collapsed": true
   },
   "outputs": [],
   "source": [
    "import numpy as np\n",
    "import matplotlib.pyplot as plt\n",
    "\n",
    "from scipy.integrate import odeint\n",
    "from scipy.sparse import csc_matrix, csr_matrix, coo_matrix\n",
    "from qutip import *"
   ]
  },
  {
   "cell_type": "code",
   "execution_count": 39,
   "metadata": {
    "collapsed": true
   },
   "outputs": [],
   "source": [
    "# functions to calculate parameters\n",
    "\n",
    "def A(ra, g, gamma):\n",
    "    return 2 * ra * g**2 / gamma**2\n",
    "\n",
    "def B(g, gamma, fA):\n",
    "    return 4 * fA * g**2 / gamma**2\n",
    "\n",
    "def BdA(g, gamma):\n",
    "    return 4 * g**2 / gamma**2\n",
    "\n",
    "def M(n, m, fBdA):\n",
    "    return 0.5 * (n + m + 2) + (n - m)**2 * fBdA / 8\n",
    "\n",
    "def N(n, m, fBdA):\n",
    "    return 0.5 * (n + m + 2) + (n - m)**2 * fBdA / 16\n",
    "\n",
    "def n_p(fA, fB, kappa):\n",
    "    return fA * (fA - kappa) / kappa / fB"
   ]
  },
  {
   "cell_type": "code",
   "execution_count": 40,
   "metadata": {
    "collapsed": false
   },
   "outputs": [],
   "source": [
    "# parameters\n",
    "\n",
    "w_c = 2.0 * np.pi\n",
    "w_a = 2.0 * np.pi\n",
    "g = 0.1 * 2* np.pi\n",
    "\n",
    "gamma = 0.01\n",
    "kappa = 0.01\n",
    "ra = 0.01\n",
    "\n",
    "N_max = 5\n",
    "\n",
    "fA = A(ra, g, gamma)\n",
    "fB = B(g, gamma, fA)\n",
    "fBdA = BdA(g, gamma)\n",
    "aver_n = n_p(fA, fB, kappa)"
   ]
  },
  {
   "cell_type": "code",
   "execution_count": 41,
   "metadata": {
    "collapsed": false
   },
   "outputs": [
    {
     "data": {
      "text/plain": [
       "(78.95683520871485, 1246836.3652352307, 0.01)"
      ]
     },
     "execution_count": 41,
     "metadata": {},
     "output_type": "execute_result"
    }
   ],
   "source": [
    "fA, fB, kappa"
   ]
  },
  {
   "cell_type": "code",
   "execution_count": 42,
   "metadata": {
    "collapsed": false
   },
   "outputs": [
    {
     "data": {
      "text/plain": [
       "(15791.367041742971, 15791.367041742971)"
      ]
     },
     "execution_count": 42,
     "metadata": {},
     "output_type": "execute_result"
    }
   ],
   "source": [
    "fB/fA, fBdA"
   ]
  },
  {
   "cell_type": "code",
   "execution_count": 43,
   "metadata": {
    "collapsed": false
   },
   "outputs": [
    {
     "data": {
      "text/plain": [
       "0.4999366742602235"
      ]
     },
     "execution_count": 43,
     "metadata": {},
     "output_type": "execute_result"
    }
   ],
   "source": [
    "# average photon number for steady state\n",
    "aver_n"
   ]
  },
  {
   "cell_type": "code",
   "execution_count": 44,
   "metadata": {
    "collapsed": true
   },
   "outputs": [],
   "source": [
    "# coefficients of the differential equation\n",
    "\n",
    "def fnm(n, m, fA, fBdA, kappa):\n",
    "    return - (M(n, m, fBdA) * fA / (1 + N(n, m, fBdA) * fBdA)) - 0.5 * kappa * (n + m)\n",
    "\n",
    "def gnm(n, m, fA, fBdA):\n",
    "    return np.sqrt(n * m) * fA / (1 + N (n - 1, m - 1, fBdA) * fBdA)\n",
    "\n",
    "def hnm(n, m, kappa):\n",
    "    return kappa * np.sqrt((n + 1) * (m + 1))"
   ]
  },
  {
   "cell_type": "code",
   "execution_count": 45,
   "metadata": {
    "collapsed": false
   },
   "outputs": [],
   "source": [
    "# parameters in the differential equation\n",
    "ij = range(N_max)\n",
    "FNM = np.array([fnm(i, j, fA, fBdA, kappa) for i in ij for j in ij]).reshape(N_max, N_max)\n",
    "GNM = np.array([gnm(i, j, fA, fBdA) for i in ij for j in ij]).reshape(N_max, N_max)\n",
    "HNM = np.array([hnm(i, j, kappa) for i in ij for j in ij]).reshape(N_max, N_max)"
   ]
  },
  {
   "cell_type": "code",
   "execution_count": 46,
   "metadata": {
    "collapsed": false
   },
   "outputs": [
    {
     "data": {
      "text/plain": [
       "array([[-0.00499968, -0.01499241, -0.01999747, -0.02499859, -0.02999905],\n",
       "       [-0.01499241, -0.01499984, -0.02498737, -0.0299962 , -0.03499803],\n",
       "       [-0.01999747, -0.02498737, -0.02499989, -0.03498233, -0.03999494],\n",
       "       [-0.02499859, -0.0299962 , -0.03498233, -0.03499992, -0.04497731],\n",
       "       [-0.02999905, -0.03499803, -0.03999494, -0.04497731, -0.04499994]])"
      ]
     },
     "execution_count": 46,
     "metadata": {},
     "output_type": "execute_result"
    }
   ],
   "source": [
    "FNM"
   ]
  },
  {
   "cell_type": "code",
   "execution_count": 47,
   "metadata": {
    "collapsed": false
   },
   "outputs": [
    {
     "data": {
      "text/plain": [
       "array([-0.00499968, -0.01499241, -0.01999747, -0.02499859, -0.02999905,\n",
       "       -0.01499241, -0.01499984, -0.02498737, -0.0299962 , -0.03499803,\n",
       "       -0.01999747, -0.02498737, -0.02499989, -0.03498233, -0.03999494,\n",
       "       -0.02499859, -0.0299962 , -0.03498233, -0.03499992, -0.04497731,\n",
       "       -0.02999905, -0.03499803, -0.03999494, -0.04497731, -0.04499994])"
      ]
     },
     "execution_count": 47,
     "metadata": {},
     "output_type": "execute_result"
    }
   ],
   "source": [
    "FNM.reshape(-1)"
   ]
  },
  {
   "cell_type": "code",
   "execution_count": 84,
   "metadata": {
    "collapsed": true
   },
   "outputs": [],
   "source": [
    "# differential equation\n",
    "def rho_nm_dot(rho_nm, t):\n",
    "    rho = rho_nm.reshape(N_max, N_max)\n",
    "    rho_new = np.zeros([N_max, N_max])\n",
    "    \n",
    "    ij = range(N_max)\n",
    "    for i in ij:\n",
    "        for j in ij:\n",
    "            rho_new[i, j] += FNM[i, j] * rho[i, j]\n",
    "            if i > 0 and j > 0:\n",
    "                rho_new[i, j] += GNM[i, j] * rho[i - 1, j - 1]\n",
    "            if i < N_max - 1 and j < N_max - 1:\n",
    "                rho_new[i, j] += HNM[i, j] * rho[i + 1, j + 1]\n",
    "    \n",
    "    return rho_new.reshape(-1)"
   ]
  },
  {
   "cell_type": "code",
   "execution_count": 85,
   "metadata": {
    "collapsed": false
   },
   "outputs": [],
   "source": [
    "t_list = np.linspace(0, 20, 101)\n",
    "rho_0 = np.zeros(N_max * N_max)\n",
    "rho_0[0] = 1"
   ]
  },
  {
   "cell_type": "code",
   "execution_count": 86,
   "metadata": {
    "collapsed": false
   },
   "outputs": [
    {
     "data": {
      "text/plain": [
       "array([  0. ,   0.2,   0.4,   0.6,   0.8,   1. ,   1.2,   1.4,   1.6,\n",
       "         1.8,   2. ,   2.2,   2.4,   2.6,   2.8,   3. ,   3.2,   3.4,\n",
       "         3.6,   3.8,   4. ,   4.2,   4.4,   4.6,   4.8,   5. ,   5.2,\n",
       "         5.4,   5.6,   5.8,   6. ,   6.2,   6.4,   6.6,   6.8,   7. ,\n",
       "         7.2,   7.4,   7.6,   7.8,   8. ,   8.2,   8.4,   8.6,   8.8,\n",
       "         9. ,   9.2,   9.4,   9.6,   9.8,  10. ,  10.2,  10.4,  10.6,\n",
       "        10.8,  11. ,  11.2,  11.4,  11.6,  11.8,  12. ,  12.2,  12.4,\n",
       "        12.6,  12.8,  13. ,  13.2,  13.4,  13.6,  13.8,  14. ,  14.2,\n",
       "        14.4,  14.6,  14.8,  15. ,  15.2,  15.4,  15.6,  15.8,  16. ,\n",
       "        16.2,  16.4,  16.6,  16.8,  17. ,  17.2,  17.4,  17.6,  17.8,\n",
       "        18. ,  18.2,  18.4,  18.6,  18.8,  19. ,  19.2,  19.4,  19.6,\n",
       "        19.8,  20. ])"
      ]
     },
     "execution_count": 86,
     "metadata": {},
     "output_type": "execute_result"
    }
   ],
   "source": [
    "t_list"
   ]
  },
  {
   "cell_type": "code",
   "execution_count": 87,
   "metadata": {
    "collapsed": false
   },
   "outputs": [
    {
     "data": {
      "text/plain": [
       "array([ 1.,  0.,  0.,  0.,  0.,  0.,  0.,  0.,  0.,  0.,  0.,  0.,  0.,\n",
       "        0.,  0.,  0.,  0.,  0.,  0.,  0.,  0.,  0.,  0.,  0.,  0.])"
      ]
     },
     "execution_count": 87,
     "metadata": {},
     "output_type": "execute_result"
    }
   ],
   "source": [
    "rho_0"
   ]
  },
  {
   "cell_type": "code",
   "execution_count": 88,
   "metadata": {
    "collapsed": true
   },
   "outputs": [],
   "source": [
    "result = odeint(rho_nm_dot, rho_0, t_list)"
   ]
  },
  {
   "cell_type": "code",
   "execution_count": 89,
   "metadata": {
    "collapsed": false
   },
   "outputs": [
    {
     "data": {
      "text/plain": [
       "101"
      ]
     },
     "execution_count": 89,
     "metadata": {},
     "output_type": "execute_result"
    }
   ],
   "source": [
    "len(result)"
   ]
  },
  {
   "cell_type": "code",
   "execution_count": 95,
   "metadata": {
    "collapsed": false
   },
   "outputs": [
    {
     "data": {
      "text/plain": [
       "array([[  9.13356598e-01,   0.00000000e+00,   0.00000000e+00,\n",
       "          0.00000000e+00,   0.00000000e+00],\n",
       "       [  0.00000000e+00,   8.27763914e-02,   0.00000000e+00,\n",
       "          0.00000000e+00,   0.00000000e+00],\n",
       "       [  0.00000000e+00,   0.00000000e+00,   3.75106804e-03,\n",
       "          0.00000000e+00,   0.00000000e+00],\n",
       "       [  0.00000000e+00,   0.00000000e+00,   0.00000000e+00,\n",
       "          1.13326763e-04,   0.00000000e+00],\n",
       "       [  0.00000000e+00,   0.00000000e+00,   0.00000000e+00,\n",
       "          0.00000000e+00,   2.56019197e-06]])"
      ]
     },
     "execution_count": 95,
     "metadata": {},
     "output_type": "execute_result"
    }
   ],
   "source": [
    "result[100].reshape(N_max, N_max)"
   ]
  },
  {
   "cell_type": "code",
   "execution_count": 101,
   "metadata": {
    "collapsed": true
   },
   "outputs": [],
   "source": [
    "# ordinary differential equation for the diagonal terms\n",
    "\n",
    "def pn_dot(pn, t):\n",
    "    pn_new = np.zeros(N_max)\n",
    "    for n in xrange(N_max):\n",
    "        pn_new[n] += (- (n + 1) * fA / (1 + (n + 1) * fBdA)  - kappa * n) * pn[n]\n",
    "        if n > 0:\n",
    "            pn_new[n] += n * fA / (1 + n * fBdA) * pn[n-1]\n",
    "        if n < N_max - 1:\n",
    "            pn_new[n] += kappa * (n+1) * pn[n + 1]\n",
    "    return pn_new"
   ]
  },
  {
   "cell_type": "code",
   "execution_count": 102,
   "metadata": {
    "collapsed": true
   },
   "outputs": [],
   "source": [
    "t_list = np.linspace(0, 20, 101)\n",
    "pn_0 = np.zeros(N_max)\n",
    "pn_0[0] = 1"
   ]
  },
  {
   "cell_type": "code",
   "execution_count": 103,
   "metadata": {
    "collapsed": false
   },
   "outputs": [],
   "source": [
    "result2 = odeint(pn_dot, pn_0, t_list)"
   ]
  },
  {
   "cell_type": "code",
   "execution_count": 104,
   "metadata": {
    "collapsed": false
   },
   "outputs": [
    {
     "data": {
      "text/plain": [
       "array([  9.13356598e-01,   8.27763914e-02,   3.75106804e-03,\n",
       "         1.13326763e-04,   2.56019197e-06])"
      ]
     },
     "execution_count": 104,
     "metadata": {},
     "output_type": "execute_result"
    }
   ],
   "source": [
    "result2[100]"
   ]
  },
  {
   "cell_type": "code",
   "execution_count": 107,
   "metadata": {
    "collapsed": false
   },
   "outputs": [
    {
     "data": {
      "text/latex": [
       "Quantum object: dims = [[5], [5]], shape = [5, 5], type = oper, isherm = True\\begin{equation*}\\left(\\begin{array}{*{11}c}0.779 & 0.389 & 0.138 & 0.040 & 0.010\\\\0.389 & 0.195 & 0.069 & 0.020 & 0.005\\\\0.138 & 0.069 & 0.024 & 0.007 & 0.002\\\\0.040 & 0.020 & 0.007 & 0.002 & 5.276\\times10^{-04}\\\\0.010 & 0.005 & 0.002 & 5.276\\times10^{-04} & 1.377\\times10^{-04}\\\\\\end{array}\\right)\\end{equation*}"
      ],
      "text/plain": [
       "Quantum object: dims = [[5], [5]], shape = [5, 5], type = oper, isherm = True\n",
       "Qobj data =\n",
       "[[  7.78800837e-01   3.89399874e-01   1.37680507e-01   3.96822144e-02\n",
       "    1.03552599e-02]\n",
       " [  3.89399874e-01   1.94699665e-01   6.88401575e-02   1.98410795e-02\n",
       "    5.17762272e-03]\n",
       " [  1.37680507e-01   6.88401575e-02   2.43398841e-02   7.01523054e-03\n",
       "    1.83065731e-03]\n",
       " [  3.96822144e-02   1.98410795e-02   7.01523054e-03   2.02192662e-03\n",
       "    5.27631232e-04]\n",
       " [  1.03552599e-02   5.17762272e-03   1.83065731e-03   5.27631232e-04\n",
       "    1.37687844e-04]]"
      ]
     },
     "execution_count": 107,
     "metadata": {},
     "output_type": "execute_result"
    }
   ],
   "source": [
    "coherent_dm(5, 0.5)"
   ]
  },
  {
   "cell_type": "code",
   "execution_count": null,
   "metadata": {
    "collapsed": true
   },
   "outputs": [],
   "source": []
  }
 ],
 "metadata": {
  "anaconda-cloud": {},
  "kernelspec": {
   "display_name": "Python [conda root]",
   "language": "python",
   "name": "conda-root-py"
  },
  "language_info": {
   "codemirror_mode": {
    "name": "ipython",
    "version": 2
   },
   "file_extension": ".py",
   "mimetype": "text/x-python",
   "name": "python",
   "nbconvert_exporter": "python",
   "pygments_lexer": "ipython2",
   "version": "2.7.12"
  }
 },
 "nbformat": 4,
 "nbformat_minor": 1
}
