{
 "cells": [
  {
   "cell_type": "code",
   "execution_count": 35,
   "metadata": {
    "collapsed": true
   },
   "outputs": [],
   "source": [
    "import numpy as np\n",
    "import matplotlib.pyplot as plt\n",
    "\n",
    "from scipy.integrate import odeint\n",
    "from scipy.sparse import csc_matrix, csr_matrix, coo_matrix\n",
    "from qutip import *"
   ]
  },
  {
   "cell_type": "code",
   "execution_count": 80,
   "metadata": {
    "collapsed": true
   },
   "outputs": [],
   "source": [
    "# functions to calculate parameters\n",
    "\n",
    "def A(ra, g, gamma):\n",
    "    return 2 * ra * g**2 / gamma**2\n",
    "\n",
    "def B(g, gamma, fA):\n",
    "    return 4 * fA * g**2 / gamma**2\n",
    "\n",
    "def BdA(g, gamma):\n",
    "    return 4 * g**2 / gamma**2\n",
    "\n",
    "def M(n, m, fBdA):\n",
    "    return 0.5 * (n + m + 2) + (n - m)**2 * fBdA / 8\n",
    "\n",
    "def N(n, m, fBdA):\n",
    "    return 0.5 * (n + m + 2) + (n - m)**2 * fBdA / 16\n",
    "\n",
    "def n_p(fA, fB, kappa):\n",
    "    return fA * (fA - kappa) / kappa / fB"
   ]
  },
  {
   "cell_type": "code",
   "execution_count": 81,
   "metadata": {
    "collapsed": false
   },
   "outputs": [],
   "source": [
    "# parameters\n",
    "\n",
    "w_c = 2.0 * np.pi\n",
    "w_a = 2.0 * np.pi\n",
    "g = 0.1 * 2* np.pi\n",
    "\n",
    "gamma = 0.01\n",
    "kappa = 0.01\n",
    "ra = 0.01\n",
    "\n",
    "N_max = 5\n",
    "\n",
    "fA = A(ra, g, gamma)\n",
    "fB = B(g, gamma, fA)\n",
    "fBdA = BdA(g, gamma)\n",
    "aver_n = n_p(fA, fB, kappa)"
   ]
  },
  {
   "cell_type": "code",
   "execution_count": 82,
   "metadata": {
    "collapsed": false
   },
   "outputs": [
    {
     "data": {
      "text/plain": [
       "(78.95683520871485, 1246836.3652352307, 0.01)"
      ]
     },
     "execution_count": 82,
     "metadata": {},
     "output_type": "execute_result"
    }
   ],
   "source": [
    "fA, fB, kappa"
   ]
  },
  {
   "cell_type": "code",
   "execution_count": 83,
   "metadata": {
    "collapsed": false
   },
   "outputs": [
    {
     "data": {
      "text/plain": [
       "(15791.367041742971, 15791.367041742971)"
      ]
     },
     "execution_count": 83,
     "metadata": {},
     "output_type": "execute_result"
    }
   ],
   "source": [
    "fB/fA, fBdA"
   ]
  },
  {
   "cell_type": "code",
   "execution_count": 84,
   "metadata": {
    "collapsed": false
   },
   "outputs": [
    {
     "data": {
      "text/plain": [
       "0.4999366742602235"
      ]
     },
     "execution_count": 84,
     "metadata": {},
     "output_type": "execute_result"
    }
   ],
   "source": [
    "# average photon number for steady state\n",
    "aver_n"
   ]
  },
  {
   "cell_type": "code",
   "execution_count": 85,
   "metadata": {
    "collapsed": true
   },
   "outputs": [],
   "source": [
    "# coefficients of the differential equation\n",
    "\n",
    "def fnm(n, m, fA, fBdA, kappa):\n",
    "    return - (M(n, m, fBdA) * fA / (1 + N(n, m, fBdA) * fBdA)) - 0.5 * kappa * (n + m)\n",
    "\n",
    "def gnm(n, m, fA, fBdA):\n",
    "    return np.sqrt(n * m) * fA / (1 + N (n, m, fBdA) * fBdA)\n",
    "\n",
    "def hnm(n, m, kappa):\n",
    "    return kappa * np.sqrt((n + 1) * (m + 1))"
   ]
  },
  {
   "cell_type": "code",
   "execution_count": 86,
   "metadata": {
    "collapsed": false
   },
   "outputs": [],
   "source": [
    "# parameters in the differential equation\n",
    "ij = range(N_max)\n",
    "FNM = np.array([fnm(i, j, fA, fBdA, kappa) for i in ij for j in ij]).reshape(N_max, N_max)\n",
    "GNM = np.array([gnm(i, j, fA, fBdA) for i in ij for j in ij]).reshape(N_max, N_max)\n",
    "HNM = np.array([hnm(i, j, kappa) for i in ij for j in ij]).reshape(N_max, N_max)"
   ]
  },
  {
   "cell_type": "code",
   "execution_count": 94,
   "metadata": {
    "collapsed": false
   },
   "outputs": [
    {
     "data": {
      "text/plain": [
       "array([[-0.00499968, -0.01499241, -0.01999747, -0.02499859, -0.02999905],\n",
       "       [-0.01499241, -0.01499984, -0.02498737, -0.0299962 , -0.03499803],\n",
       "       [-0.01999747, -0.02498737, -0.02499989, -0.03498233, -0.03999494],\n",
       "       [-0.02499859, -0.0299962 , -0.03498233, -0.03499992, -0.04497731],\n",
       "       [-0.02999905, -0.03499803, -0.03999494, -0.04497731, -0.04499994]])"
      ]
     },
     "execution_count": 94,
     "metadata": {},
     "output_type": "execute_result"
    }
   ],
   "source": [
    "FNM"
   ]
  },
  {
   "cell_type": "code",
   "execution_count": 93,
   "metadata": {
    "collapsed": false
   },
   "outputs": [
    {
     "data": {
      "text/plain": [
       "array([-0.00499968, -0.01499241, -0.01999747, -0.02499859, -0.02999905,\n",
       "       -0.01499241, -0.01499984, -0.02498737, -0.0299962 , -0.03499803,\n",
       "       -0.01999747, -0.02498737, -0.02499989, -0.03498233, -0.03999494,\n",
       "       -0.02499859, -0.0299962 , -0.03498233, -0.03499992, -0.04497731,\n",
       "       -0.02999905, -0.03499803, -0.03999494, -0.04497731, -0.04499994])"
      ]
     },
     "execution_count": 93,
     "metadata": {},
     "output_type": "execute_result"
    }
   ],
   "source": [
    "FNM.reshape(-1)"
   ]
  },
  {
   "cell_type": "code",
   "execution_count": null,
   "metadata": {
    "collapsed": true
   },
   "outputs": [],
   "source": [
    "# differential equation\n",
    "def rho_nm_dot(rho_nm, t):\n",
    "    rho = rho_nm.reshape(N_max, N_max)\n",
    "    rho_new = np.zeros([N_max, N_max])\n",
    "    \n",
    "    ij = range(N_max)\n",
    "    for i in ij:\n",
    "        for j in ij:\n",
    "            rho_new[i, j] = np.sum()"
   ]
  },
  {
   "cell_type": "code",
   "execution_count": 101,
   "metadata": {
    "collapsed": false
   },
   "outputs": [
    {
     "data": {
      "text/plain": [
       "array([ 4, 10, 18])"
      ]
     },
     "execution_count": 101,
     "metadata": {},
     "output_type": "execute_result"
    }
   ],
   "source": [
    "np.array([1, 2, 3]) * np.array([4, 5, 6])"
   ]
  },
  {
   "cell_type": "code",
   "execution_count": null,
   "metadata": {
    "collapsed": true
   },
   "outputs": [],
   "source": []
  }
 ],
 "metadata": {
  "anaconda-cloud": {},
  "kernelspec": {
   "display_name": "Python [conda root]",
   "language": "python",
   "name": "conda-root-py"
  },
  "language_info": {
   "codemirror_mode": {
    "name": "ipython",
    "version": 2
   },
   "file_extension": ".py",
   "mimetype": "text/x-python",
   "name": "python",
   "nbconvert_exporter": "python",
   "pygments_lexer": "ipython2",
   "version": "2.7.12"
  }
 },
 "nbformat": 4,
 "nbformat_minor": 1
}
