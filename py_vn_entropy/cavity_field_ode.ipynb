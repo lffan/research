{
 "cells": [
  {
   "cell_type": "code",
   "execution_count": 108,
   "metadata": {
    "collapsed": true
   },
   "outputs": [],
   "source": [
    "import numpy as np\n",
    "import matplotlib.pyplot as plt\n",
    "\n",
    "from scipy.integrate import odeint\n",
    "from scipy.sparse import csc_matrix, csr_matrix, coo_matrix\n",
    "from qutip import *"
   ]
  },
  {
   "cell_type": "code",
   "execution_count": 145,
   "metadata": {
    "collapsed": true
   },
   "outputs": [],
   "source": [
    "# functions to calculate parameters\n",
    "\n",
    "def A(ra, g, gamma):\n",
    "    return 2 * ra * g**2 / gamma**2\n",
    "\n",
    "def B(g, gamma, fA):\n",
    "    return 4 * fA * g**2 / gamma**2\n",
    "\n",
    "def BdA(g, gamma):\n",
    "    return 4 * g**2 / gamma**2\n",
    "\n",
    "def M(n, m, fBdA):\n",
    "    return 0.5 * (n + m + 2) + (n - m)**2 * fBdA / 8\n",
    "\n",
    "def N(n, m, fBdA):\n",
    "    return 0.5 * (n + m + 2) + (n - m)**2 * fBdA / 16\n",
    "\n",
    "def n_p(fA, fB, kappa):\n",
    "    return fA * (fA - kappa) / kappa / fB"
   ]
  },
  {
   "cell_type": "code",
   "execution_count": 146,
   "metadata": {
    "collapsed": false
   },
   "outputs": [],
   "source": [
    "# parameters\n",
    "\n",
    "w_c = 2.0 * np.pi\n",
    "w_a = 2.0 * np.pi\n",
    "g = 0.1 * 2 * np.pi\n",
    "\n",
    "gamma = 0.01\n",
    "kappa = 0.01\n",
    "ra = 0.01\n",
    "\n",
    "N_max = 5\n",
    "\n",
    "fA = A(ra, g, gamma)\n",
    "fB = B(g, gamma, fA)\n",
    "fBdA = BdA(g, gamma)\n",
    "aver_n = n_p(fA, fB, kappa)"
   ]
  },
  {
   "cell_type": "code",
   "execution_count": 147,
   "metadata": {
    "collapsed": false
   },
   "outputs": [
    {
     "data": {
      "text/plain": [
       "(78.95683520871485, 1246836.3652352307, 0.01)"
      ]
     },
     "execution_count": 147,
     "metadata": {},
     "output_type": "execute_result"
    }
   ],
   "source": [
    "fA, fB, kappa"
   ]
  },
  {
   "cell_type": "code",
   "execution_count": 148,
   "metadata": {
    "collapsed": false
   },
   "outputs": [
    {
     "data": {
      "text/plain": [
       "(15791.367041742971, 15791.367041742971)"
      ]
     },
     "execution_count": 148,
     "metadata": {},
     "output_type": "execute_result"
    }
   ],
   "source": [
    "fB/fA, fBdA"
   ]
  },
  {
   "cell_type": "code",
   "execution_count": 149,
   "metadata": {
    "collapsed": false
   },
   "outputs": [
    {
     "data": {
      "text/plain": [
       "0.4999366742602235"
      ]
     },
     "execution_count": 149,
     "metadata": {},
     "output_type": "execute_result"
    }
   ],
   "source": [
    "# average photon number for steady state\n",
    "aver_n"
   ]
  },
  {
   "cell_type": "code",
   "execution_count": 114,
   "metadata": {
    "collapsed": true
   },
   "outputs": [],
   "source": [
    "# coefficients of the differential equation\n",
    "\n",
    "def fnm(n, m, fA, fBdA, kappa):\n",
    "    return - (M(n, m, fBdA) * fA / (1 + N(n, m, fBdA) * fBdA)) - 0.5 * kappa * (n + m)\n",
    "\n",
    "def gnm(n, m, fA, fBdA):\n",
    "    return np.sqrt(n * m) * fA / (1 + N (n - 1, m - 1, fBdA) * fBdA)\n",
    "\n",
    "def hnm(n, m, kappa):\n",
    "    return kappa * np.sqrt((n + 1) * (m + 1))"
   ]
  },
  {
   "cell_type": "code",
   "execution_count": 115,
   "metadata": {
    "collapsed": false
   },
   "outputs": [],
   "source": [
    "# parameters in the differential equation\n",
    "ij = range(N_max)\n",
    "FNM = np.array([fnm(i, j, fA, fBdA, kappa) for i in ij for j in ij]).reshape(N_max, N_max)\n",
    "GNM = np.array([gnm(i, j, fA, fBdA) for i in ij for j in ij]).reshape(N_max, N_max)\n",
    "HNM = np.array([hnm(i, j, kappa) for i in ij for j in ij]).reshape(N_max, N_max)"
   ]
  },
  {
   "cell_type": "code",
   "execution_count": 116,
   "metadata": {
    "collapsed": false
   },
   "outputs": [
    {
     "data": {
      "text/plain": [
       "array([[-0.00499968, -0.01499241, -0.01999747, -0.02499859, -0.02999905],\n",
       "       [-0.01499241, -0.01499984, -0.02498737, -0.0299962 , -0.03499803],\n",
       "       [-0.01999747, -0.02498737, -0.02499989, -0.03498233, -0.03999494],\n",
       "       [-0.02499859, -0.0299962 , -0.03498233, -0.03499992, -0.04497731],\n",
       "       [-0.02999905, -0.03499803, -0.03999494, -0.04497731, -0.04499994]])"
      ]
     },
     "execution_count": 116,
     "metadata": {},
     "output_type": "execute_result"
    }
   ],
   "source": [
    "FNM"
   ]
  },
  {
   "cell_type": "code",
   "execution_count": 117,
   "metadata": {
    "collapsed": false
   },
   "outputs": [
    {
     "data": {
      "text/plain": [
       "array([-0.00499968, -0.01499241, -0.01999747, -0.02499859, -0.02999905,\n",
       "       -0.01499241, -0.01499984, -0.02498737, -0.0299962 , -0.03499803,\n",
       "       -0.01999747, -0.02498737, -0.02499989, -0.03498233, -0.03999494,\n",
       "       -0.02499859, -0.0299962 , -0.03498233, -0.03499992, -0.04497731,\n",
       "       -0.02999905, -0.03499803, -0.03999494, -0.04497731, -0.04499994])"
      ]
     },
     "execution_count": 117,
     "metadata": {},
     "output_type": "execute_result"
    }
   ],
   "source": [
    "FNM.reshape(-1)"
   ]
  },
  {
   "cell_type": "code",
   "execution_count": 118,
   "metadata": {
    "collapsed": true
   },
   "outputs": [],
   "source": [
    "# differential equation\n",
    "def rho_nm_dot(rho_nm, t):\n",
    "    rho = rho_nm.reshape(N_max, N_max)\n",
    "    rho_new = np.zeros([N_max, N_max])\n",
    "    \n",
    "    ij = range(N_max)\n",
    "    for i in ij:\n",
    "        for j in ij:\n",
    "            rho_new[i, j] += FNM[i, j] * rho[i, j]\n",
    "            if i > 0 and j > 0:\n",
    "                rho_new[i, j] += GNM[i, j] * rho[i - 1, j - 1]\n",
    "            if i < N_max - 1 and j < N_max - 1:\n",
    "                rho_new[i, j] += HNM[i, j] * rho[i + 1, j + 1]\n",
    "    \n",
    "    return rho_new.reshape(-1)"
   ]
  },
  {
   "cell_type": "code",
   "execution_count": 134,
   "metadata": {
    "collapsed": false
   },
   "outputs": [],
   "source": [
    "t_list = np.linspace(0, 200, 801)\n",
    "rho_0 = np.zeros(N_max * N_max)\n",
    "rho_0[0] = 1"
   ]
  },
  {
   "cell_type": "code",
   "execution_count": 135,
   "metadata": {
    "collapsed": false
   },
   "outputs": [
    {
     "data": {
      "text/plain": [
       "array([ 1.,  0.,  0.,  0.,  0.,  0.,  0.,  0.,  0.,  0.,  0.,  0.,  0.,\n",
       "        0.,  0.,  0.,  0.,  0.,  0.,  0.,  0.,  0.,  0.,  0.,  0.])"
      ]
     },
     "execution_count": 135,
     "metadata": {},
     "output_type": "execute_result"
    }
   ],
   "source": [
    "rho_0"
   ]
  },
  {
   "cell_type": "code",
   "execution_count": 136,
   "metadata": {
    "collapsed": true
   },
   "outputs": [],
   "source": [
    "result = odeint(rho_nm_dot, rho_0, t_list)"
   ]
  },
  {
   "cell_type": "code",
   "execution_count": 137,
   "metadata": {
    "collapsed": false
   },
   "outputs": [
    {
     "data": {
      "text/plain": [
       "801"
      ]
     },
     "execution_count": 137,
     "metadata": {},
     "output_type": "execute_result"
    }
   ],
   "source": [
    "len(result)"
   ]
  },
  {
   "cell_type": "code",
   "execution_count": 138,
   "metadata": {
    "collapsed": false
   },
   "outputs": [
    {
     "data": {
      "text/plain": [
       "array([[  8.95303410e-01,   0.00000000e+00,   0.00000000e+00,\n",
       "          0.00000000e+00,   0.00000000e+00],\n",
       "       [  0.00000000e+00,   9.90137585e-02,   0.00000000e+00,\n",
       "          0.00000000e+00,   0.00000000e+00],\n",
       "       [  0.00000000e+00,   0.00000000e+00,   5.47527986e-03,\n",
       "          0.00000000e+00,   0.00000000e+00],\n",
       "       [  0.00000000e+00,   0.00000000e+00,   0.00000000e+00,\n",
       "          2.01839999e-04,   0.00000000e+00],\n",
       "       [  0.00000000e+00,   0.00000000e+00,   0.00000000e+00,\n",
       "          0.00000000e+00,   5.55773695e-06]])"
      ]
     },
     "execution_count": 138,
     "metadata": {},
     "output_type": "execute_result"
    }
   ],
   "source": [
    "result[100].reshape(N_max, N_max)"
   ]
  },
  {
   "cell_type": "code",
   "execution_count": 139,
   "metadata": {
    "collapsed": false
   },
   "outputs": [
    {
     "data": {
      "text/latex": [
       "Quantum object: dims = [[5], [5]], shape = [5, 5], type = oper, isherm = True\\begin{equation*}\\left(\\begin{array}{*{11}c}0.895 & 0.0 & 0.0 & 0.0 & 0.0\\\\0.0 & 0.099 & 0.0 & 0.0 & 0.0\\\\0.0 & 0.0 & 0.005 & 0.0 & 0.0\\\\0.0 & 0.0 & 0.0 & 2.018\\times10^{-04} & 0.0\\\\0.0 & 0.0 & 0.0 & 0.0 & 5.558\\times10^{-06}\\\\\\end{array}\\right)\\end{equation*}"
      ],
      "text/plain": [
       "Quantum object: dims = [[5], [5]], shape = [5, 5], type = oper, isherm = True\n",
       "Qobj data =\n",
       "[[  8.95303410e-01   0.00000000e+00   0.00000000e+00   0.00000000e+00\n",
       "    0.00000000e+00]\n",
       " [  0.00000000e+00   9.90137585e-02   0.00000000e+00   0.00000000e+00\n",
       "    0.00000000e+00]\n",
       " [  0.00000000e+00   0.00000000e+00   5.47527986e-03   0.00000000e+00\n",
       "    0.00000000e+00]\n",
       " [  0.00000000e+00   0.00000000e+00   0.00000000e+00   2.01839999e-04\n",
       "    0.00000000e+00]\n",
       " [  0.00000000e+00   0.00000000e+00   0.00000000e+00   0.00000000e+00\n",
       "    5.55773695e-06]]"
      ]
     },
     "execution_count": 139,
     "metadata": {},
     "output_type": "execute_result"
    }
   ],
   "source": [
    "Qobj(result[100].reshape(N_max, N_max))"
   ]
  },
  {
   "cell_type": "code",
   "execution_count": 140,
   "metadata": {
    "collapsed": true
   },
   "outputs": [],
   "source": [
    "# ordinary differential equation for the diagonal terms\n",
    "\n",
    "def pn_dot(pn, t):\n",
    "    pn_new = np.zeros(N_max)\n",
    "    for n in xrange(N_max):\n",
    "        pn_new[n] += (- (n + 1) * fA / (1 + (n + 1) * fBdA)  - kappa * n) * pn[n]\n",
    "        if n > 0:\n",
    "            pn_new[n] += n * fA / (1 + n * fBdA) * pn[n-1]\n",
    "        if n < N_max - 1:\n",
    "            pn_new[n] += kappa * (n+1) * pn[n + 1]\n",
    "    return pn_new"
   ]
  },
  {
   "cell_type": "markdown",
   "metadata": {},
   "source": [
    "### initial state: fock"
   ]
  },
  {
   "cell_type": "code",
   "execution_count": 186,
   "metadata": {
    "collapsed": true
   },
   "outputs": [],
   "source": [
    "t_list = np.linspace(0, 400, 3201)\n",
    "pn_0 = np.zeros(N_max)\n",
    "pn_0[0] = 1"
   ]
  },
  {
   "cell_type": "code",
   "execution_count": 187,
   "metadata": {
    "collapsed": false
   },
   "outputs": [],
   "source": [
    "result2 = odeint(pn_dot, pn_0, t_list)"
   ]
  },
  {
   "cell_type": "code",
   "execution_count": 188,
   "metadata": {
    "collapsed": false
   },
   "outputs": [
    {
     "data": {
      "text/plain": [
       "array([  9.42944526e-01,   5.53958873e-02,   1.62724506e-03,\n",
       "         3.18682430e-05,   4.67331682e-07])"
      ]
     },
     "execution_count": 188,
     "metadata": {},
     "output_type": "execute_result"
    }
   ],
   "source": [
    "result2[100]"
   ]
  },
  {
   "cell_type": "code",
   "execution_count": 189,
   "metadata": {
    "collapsed": true
   },
   "outputs": [],
   "source": [
    "aver_n = []\n",
    "for vec in result2:\n",
    "    n = sum(vec * range(N_max))\n",
    "    aver_n.append(n)"
   ]
  },
  {
   "cell_type": "code",
   "execution_count": 190,
   "metadata": {
    "collapsed": false
   },
   "outputs": [
    {
     "data": {
      "image/png": "[encoded data removed]",
      "text/plain": [
       "<matplotlib.figure.Figure at 0x9ad9c18>"
      ]
     },
     "metadata": {},
     "output_type": "display_data"
    }
   ],
   "source": [
    "plt.plot(t_list, aver_n)\n",
    "plt.show()"
   ]
  },
  {
   "cell_type": "markdown",
   "metadata": {},
   "source": [
    "### initial state: coherent"
   ]
  },
  {
   "cell_type": "code",
   "execution_count": 191,
   "metadata": {
    "collapsed": false
   },
   "outputs": [],
   "source": [
    "t_list = np.linspace(0, 400, 3201)\n",
    "rho_0 = coherent_dm(N_max, 0.5)\n",
    "rho_0 = np.real(coo_matrix(rho_0.data).toarray().reshape(-1))"
   ]
  },
  {
   "cell_type": "code",
   "execution_count": 192,
   "metadata": {
    "collapsed": false
   },
   "outputs": [],
   "source": [
    "result3 = odeint(rho_nm_dot, rho_0, t_list)"
   ]
  },
  {
   "cell_type": "code",
   "execution_count": null,
   "metadata": {
    "collapsed": true
   },
   "outputs": [],
   "source": [
    "aver_n = []\n",
    "for vec in result3:\n",
    "    n = sum(vec * range(N_max))\n",
    "    aver_n.append(n)"
   ]
  }
 ],
 "metadata": {
  "anaconda-cloud": {},
  "kernelspec": {
   "display_name": "Python [conda root]",
   "language": "python",
   "name": "conda-root-py"
  },
  "language_info": {
   "codemirror_mode": {
    "name": "ipython",
    "version": 2
   },
   "file_extension": ".py",
   "mimetype": "text/x-python",
   "name": "python",
   "nbconvert_exporter": "python",
   "pygments_lexer": "ipython2",
   "version": "2.7.12"
  }
 },
 "nbformat": 4,
 "nbformat_minor": 1
}
