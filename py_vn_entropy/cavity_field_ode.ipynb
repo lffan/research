{
 "cells": [
  {
   "cell_type": "code",
   "execution_count": 39,
   "metadata": {
    "collapsed": true
   },
   "outputs": [],
   "source": [
    "import numpy as np\n",
    "import matplotlib.pyplot as plt\n",
    "\n",
    "from scipy.integrate import odeint\n",
    "from scipy.sparse import coo_matrix \n",
    "from qutip import *\n",
    "\n",
    "%matplotlib inline"
   ]
  },
  {
   "cell_type": "markdown",
   "metadata": {},
   "source": [
    "**Equation of Motion for the Field**\n",
    "\n",
    "$$\n",
    "\\begin{aligned}\n",
    "\\dot{\\rho}_{nm} =\n",
    "&- \\frac{M_{nm}A}{1 + N_{nm}B/A} \\rho_{nm} + \\frac{\\sqrt{nm}A}{1 + N_{n-1,m-1}B/A} \\rho_{n-1,m-1} \\\\\n",
    "&- \\frac{\\kappa}{2}(n+m)\\rho_{nm} + \\kappa\\sqrt{(n+1)(m+1)} \\rho_{n+1, m+1}\n",
    "\\end{aligned}\n",
    "$$\n",
    "\n",
    "where\n",
    "$$\n",
    "\\begin{aligned}\n",
    "A &= \\frac{2r_a g^2}{\\gamma^2},~ ~ ~B = \\frac{4g^2}{\\gamma^2} A,\\\\\n",
    "M &= \\frac{1}{2}(n+n'+2) + (n-n')^2\\frac{B}{8A},\\\\\n",
    "N &= \\frac{1}{2}(n+n'+2) + (n-n')^2\\frac{B}{16A}.\n",
    "\\end{aligned}\n",
    "$$\n",
    "\n",
    "In particular, for diagonal elements, we have\n",
    "\n",
    "$$\n",
    "\\begin{aligned}\n",
    "\\dot{p}(n) =\n",
    "&- \\frac{(n+1)A}{1 + (n+1)B/A} p(n) + \\frac{nA}{1 + nB/A} p(n-1) \\\\\n",
    "&- \\kappa np(n) + \\kappa(n+1)p(n+1)\n",
    "\\end{aligned}\n",
    "$$"
   ]
  },
  {
   "cell_type": "code",
   "execution_count": 43,
   "metadata": {
    "collapsed": true
   },
   "outputs": [],
   "source": [
    "# functions to calculate parameters\n",
    "\n",
    "def A(ra, g, gamma):\n",
    "    return 2 * ra * g**2 / gamma**2\n",
    "\n",
    "def B(g, gamma, fA):\n",
    "    return 4 * fA * g**2 / gamma**2\n",
    "\n",
    "def BdA(g, gamma):\n",
    "    return 4 * g**2 / gamma**2\n",
    "\n",
    "def M(n, m, fBdA):\n",
    "    return 0.5 * (n + m + 2) + (n - m)**2 * fBdA / 8\n",
    "\n",
    "def N(n, m, fBdA):\n",
    "    return 0.5 * (n + m + 2) + (n - m)**2 * fBdA / 16\n",
    "\n",
    "def n_p(fA, fB, kappa):\n",
    "    return fA * (fA - kappa) / kappa / fB"
   ]
  },
  {
   "cell_type": "code",
   "execution_count": 71,
   "metadata": {
    "collapsed": false
   },
   "outputs": [],
   "source": [
    "# parameters\n",
    "\n",
    "w_c = 2.0 * np.pi\n",
    "w_a = 2.0 * np.pi\n",
    "g = 0.05 * 2 * np.pi\n",
    "\n",
    "gamma = 0.01\n",
    "kappa = 0.01\n",
    "ra = 0.4\n",
    "\n",
    "N_max = 80\n",
    "\n",
    "fA = A(ra, g, gamma)\n",
    "fB = B(g, gamma, fA)\n",
    "fBdA = BdA(g, gamma)\n",
    "aver_n = n_p(fA, fB, kappa)"
   ]
  },
  {
   "cell_type": "code",
   "execution_count": 72,
   "metadata": {
    "collapsed": false
   },
   "outputs": [
    {
     "data": {
      "text/plain": [
       "(789.5683520871487, 3117090.9130880777, 0.01)"
      ]
     },
     "execution_count": 72,
     "metadata": {},
     "output_type": "execute_result"
    }
   ],
   "source": [
    "fA, fB, kappa"
   ]
  },
  {
   "cell_type": "code",
   "execution_count": 73,
   "metadata": {
    "collapsed": false
   },
   "outputs": [
    {
     "data": {
      "text/plain": [
       "(3947.841760435743, 3947.841760435743)"
      ]
     },
     "execution_count": 73,
     "metadata": {},
     "output_type": "execute_result"
    }
   ],
   "source": [
    "fB/fA, fBdA"
   ]
  },
  {
   "cell_type": "code",
   "execution_count": 74,
   "metadata": {
    "collapsed": false
   },
   "outputs": [
    {
     "data": {
      "text/plain": [
       "19.999746697040898"
      ]
     },
     "execution_count": 74,
     "metadata": {},
     "output_type": "execute_result"
    }
   ],
   "source": [
    "# average photon number for steady state\n",
    "aver_n"
   ]
  },
  {
   "cell_type": "code",
   "execution_count": 75,
   "metadata": {
    "collapsed": true
   },
   "outputs": [],
   "source": [
    "# coefficients of the differential equation\n",
    "\n",
    "def fnm(n, m, fA, fBdA, kappa):\n",
    "    return - (M(n, m, fBdA) * fA / (1 + N(n, m, fBdA) * fBdA)) - 0.5 * kappa * (n + m)\n",
    "\n",
    "def gnm(n, m, fA, fBdA):\n",
    "    return np.sqrt(n * m) * fA / (1 + N (n - 1, m - 1, fBdA) * fBdA)\n",
    "\n",
    "def hnm(n, m, kappa):\n",
    "    return kappa * np.sqrt((n + 1) * (m + 1))"
   ]
  },
  {
   "cell_type": "code",
   "execution_count": 76,
   "metadata": {
    "collapsed": false
   },
   "outputs": [],
   "source": [
    "# parameters in the differential equation\n",
    "ij = range(N_max)\n",
    "FNM = np.array([fnm(i, j, fA, fBdA, kappa) for i in ij for j in ij]).reshape(N_max, N_max)\n",
    "GNM = np.array([gnm(i, j, fA, fBdA) for i in ij for j in ij]).reshape(N_max, N_max)\n",
    "HNM = np.array([hnm(i, j, kappa) for i in ij for j in ij]).reshape(N_max, N_max)"
   ]
  },
  {
   "cell_type": "code",
   "execution_count": 77,
   "metadata": {
    "collapsed": false
   },
   "outputs": [
    {
     "data": {
      "text/plain": [
       "array([[-0.19994935, -0.40379109, -0.40959543, ..., -0.7849946 ,\n",
       "        -0.78999467, -0.79499474],\n",
       "       [-0.40379109, -0.20997467, -0.4129935 , ..., -0.78999439,\n",
       "        -0.79499446, -0.79999454],\n",
       "       [-0.40959543, -0.4129935 , -0.21998311, ..., -0.79499416,\n",
       "        -0.79999425, -0.80499433],\n",
       "       ..., \n",
       "       [-0.7849946 , -0.78999439, -0.79499416, ..., -0.96999935,\n",
       "        -1.1267277 , -1.16517759],\n",
       "       [-0.78999467, -0.79499446, -0.79999425, ..., -1.1267277 ,\n",
       "        -0.97999936, -1.13626262],\n",
       "       [-0.79499474, -0.79999454, -0.80499433, ..., -1.16517759,\n",
       "        -1.13626262, -0.98999937]])"
      ]
     },
     "execution_count": 77,
     "metadata": {},
     "output_type": "execute_result"
    }
   ],
   "source": [
    "FNM"
   ]
  },
  {
   "cell_type": "code",
   "execution_count": 78,
   "metadata": {
    "collapsed": false
   },
   "outputs": [
    {
     "data": {
      "text/plain": [
       "array([-0.19994935, -0.40379109, -0.40959543, ..., -1.16517759,\n",
       "       -1.13626262, -0.98999937])"
      ]
     },
     "execution_count": 78,
     "metadata": {},
     "output_type": "execute_result"
    }
   ],
   "source": [
    "FNM.reshape(-1)"
   ]
  },
  {
   "cell_type": "code",
   "execution_count": 79,
   "metadata": {
    "collapsed": true
   },
   "outputs": [],
   "source": [
    "# differential equation\n",
    "def rho_nm_dot(rho_nm, t):\n",
    "    rho = rho_nm.reshape(N_max, N_max)\n",
    "    rho_new = np.zeros([N_max, N_max])\n",
    "    \n",
    "    ij = range(N_max)\n",
    "    for i in ij:\n",
    "        for j in ij:\n",
    "            rho_new[i, j] += FNM[i, j] * rho[i, j]\n",
    "            if i > 0 and j > 0:\n",
    "                rho_new[i, j] += GNM[i, j] * rho[i - 1, j - 1]\n",
    "            if i < N_max - 1 and j < N_max - 1:\n",
    "                rho_new[i, j] += HNM[i, j] * rho[i + 1, j + 1]\n",
    "    \n",
    "    return rho_new.reshape(-1)"
   ]
  },
  {
   "cell_type": "code",
   "execution_count": 80,
   "metadata": {
    "collapsed": false
   },
   "outputs": [],
   "source": [
    "t_list = np.linspace(0, 200, 801)\n",
    "rho_0 = np.zeros(N_max * N_max)\n",
    "rho_0[0] = 1"
   ]
  },
  {
   "cell_type": "code",
   "execution_count": 81,
   "metadata": {
    "collapsed": false
   },
   "outputs": [
    {
     "data": {
      "text/plain": [
       "array([ 1.,  0.,  0., ...,  0.,  0.,  0.])"
      ]
     },
     "execution_count": 81,
     "metadata": {},
     "output_type": "execute_result"
    }
   ],
   "source": [
    "rho_0"
   ]
  },
  {
   "cell_type": "code",
   "execution_count": 82,
   "metadata": {
    "collapsed": true
   },
   "outputs": [],
   "source": [
    "result = odeint(rho_nm_dot, rho_0, t_list)"
   ]
  },
  {
   "cell_type": "code",
   "execution_count": 83,
   "metadata": {
    "collapsed": false
   },
   "outputs": [
    {
     "data": {
      "text/plain": [
       "801"
      ]
     },
     "execution_count": 83,
     "metadata": {},
     "output_type": "execute_result"
    }
   ],
   "source": [
    "len(result)"
   ]
  },
  {
   "cell_type": "code",
   "execution_count": 84,
   "metadata": {
    "collapsed": false
   },
   "outputs": [
    {
     "data": {
      "text/plain": [
       "array([[  1.19986637e-02,   0.00000000e+00,   0.00000000e+00, ...,\n",
       "          0.00000000e+00,   0.00000000e+00,   0.00000000e+00],\n",
       "       [  0.00000000e+00,   5.30563975e-02,   0.00000000e+00, ...,\n",
       "          0.00000000e+00,   0.00000000e+00,   0.00000000e+00],\n",
       "       [  0.00000000e+00,   0.00000000e+00,   1.17330139e-01, ...,\n",
       "          0.00000000e+00,   0.00000000e+00,   0.00000000e+00],\n",
       "       ..., \n",
       "       [  0.00000000e+00,   0.00000000e+00,   0.00000000e+00, ...,\n",
       "          1.86758414e-66,   0.00000000e+00,   0.00000000e+00],\n",
       "       [  0.00000000e+00,   0.00000000e+00,   0.00000000e+00, ...,\n",
       "          0.00000000e+00,   9.80885578e-68,   0.00000000e+00],\n",
       "       [  0.00000000e+00,   0.00000000e+00,   0.00000000e+00, ...,\n",
       "          0.00000000e+00,   0.00000000e+00,   4.91195663e-69]])"
      ]
     },
     "execution_count": 84,
     "metadata": {},
     "output_type": "execute_result"
    }
   ],
   "source": [
    "result[100].reshape(N_max, N_max)"
   ]
  },
  {
   "cell_type": "code",
   "execution_count": 85,
   "metadata": {
    "collapsed": false
   },
   "outputs": [
    {
     "data": {
      "text/latex": [
       "Quantum object: dims = [[80], [80]], shape = [80, 80], type = oper, isherm = True\\begin{equation*}\\left(\\begin{array}{*{11}c}0.012 & 0.0 & 0.0 & 0.0 & 0.0 & \\cdots & 0.0 & 0.0 & 0.0 & 0.0 & 0.0\\\\0.0 & 0.053 & 0.0 & 0.0 & 0.0 & \\cdots & 0.0 & 0.0 & 0.0 & 0.0 & 0.0\\\\0.0 & 0.0 & 0.117 & 0.0 & 0.0 & \\cdots & 0.0 & 0.0 & 0.0 & 0.0 & 0.0\\\\0.0 & 0.0 & 0.0 & 0.173 & 0.0 & \\cdots & 0.0 & 0.0 & 0.0 & 0.0 & 0.0\\\\0.0 & 0.0 & 0.0 & 0.0 & 0.191 & \\cdots & 0.0 & 0.0 & 0.0 & 0.0 & 0.0\\\\\\vdots & \\vdots & \\vdots & \\vdots & \\vdots & \\ddots & \\vdots & \\vdots & \\vdots & \\vdots & \\vdots\\\\0.0 & 0.0 & 0.0 & 0.0 & 0.0 & \\cdots & 6.524\\times10^{-64} & 0.0 & 0.0 & 0.0 & 0.0\\\\0.0 & 0.0 & 0.0 & 0.0 & 0.0 & \\cdots & 0.0 & 3.506\\times10^{-65} & 0.0 & 0.0 & 0.0\\\\0.0 & 0.0 & 0.0 & 0.0 & 0.0 & \\cdots & 0.0 & 0.0 & 1.868\\times10^{-66} & 0.0 & 0.0\\\\0.0 & 0.0 & 0.0 & 0.0 & 0.0 & \\cdots & 0.0 & 0.0 & 0.0 & 9.809\\times10^{-68} & 0.0\\\\0.0 & 0.0 & 0.0 & 0.0 & 0.0 & \\cdots & 0.0 & 0.0 & 0.0 & 0.0 & 4.912\\times10^{-69}\\\\\\end{array}\\right)\\end{equation*}"
      ],
      "text/plain": [
       "Quantum object: dims = [[80], [80]], shape = [80, 80], type = oper, isherm = True\n",
       "Qobj data =\n",
       "[[  1.19986637e-02   0.00000000e+00   0.00000000e+00 ...,   0.00000000e+00\n",
       "    0.00000000e+00   0.00000000e+00]\n",
       " [  0.00000000e+00   5.30563975e-02   0.00000000e+00 ...,   0.00000000e+00\n",
       "    0.00000000e+00   0.00000000e+00]\n",
       " [  0.00000000e+00   0.00000000e+00   1.17330139e-01 ...,   0.00000000e+00\n",
       "    0.00000000e+00   0.00000000e+00]\n",
       " ..., \n",
       " [  0.00000000e+00   0.00000000e+00   0.00000000e+00 ...,   1.86758414e-66\n",
       "    0.00000000e+00   0.00000000e+00]\n",
       " [  0.00000000e+00   0.00000000e+00   0.00000000e+00 ...,   0.00000000e+00\n",
       "    9.80885578e-68   0.00000000e+00]\n",
       " [  0.00000000e+00   0.00000000e+00   0.00000000e+00 ...,   0.00000000e+00\n",
       "    0.00000000e+00   4.91195663e-69]]"
      ]
     },
     "execution_count": 85,
     "metadata": {},
     "output_type": "execute_result"
    }
   ],
   "source": [
    "Qobj(result[100].reshape(N_max, N_max))"
   ]
  },
  {
   "cell_type": "code",
   "execution_count": 86,
   "metadata": {
    "collapsed": true
   },
   "outputs": [],
   "source": [
    "# ordinary differential equation for the diagonal terms\n",
    "\n",
    "def pn_dot(pn, t):\n",
    "    pn_new = np.zeros(N_max)\n",
    "    for n in xrange(N_max):\n",
    "        pn_new[n] += (- (n + 1) * fA / (1 + (n + 1) * fBdA)  - kappa * n) * pn[n]\n",
    "        if n > 0:\n",
    "            pn_new[n] += n * fA / (1 + n * fBdA) * pn[n-1]\n",
    "        if n < N_max - 1:\n",
    "            pn_new[n] += kappa * (n+1) * pn[n + 1]\n",
    "    return pn_new"
   ]
  },
  {
   "cell_type": "markdown",
   "metadata": {},
   "source": [
    "### initial state: fock"
   ]
  },
  {
   "cell_type": "code",
   "execution_count": 87,
   "metadata": {
    "collapsed": true
   },
   "outputs": [],
   "source": [
    "t_list = np.linspace(0, 400, 3201)\n",
    "pn_0 = np.zeros(N_max)\n",
    "pn_0[0] = 1"
   ]
  },
  {
   "cell_type": "code",
   "execution_count": 88,
   "metadata": {
    "collapsed": false
   },
   "outputs": [],
   "source": [
    "result2 = odeint(pn_dot, pn_0, t_list)"
   ]
  },
  {
   "cell_type": "code",
   "execution_count": 89,
   "metadata": {
    "collapsed": false
   },
   "outputs": [
    {
     "data": {
      "text/plain": [
       "array([  9.54186605e-02,   2.24152056e-01,   2.63331702e-01,\n",
       "         2.06253938e-01,   1.21165249e-01,   5.69446840e-02,\n",
       "         2.23024850e-02,   7.48705504e-03,   2.19927835e-03,\n",
       "         5.74247736e-04,   1.34946800e-04,   2.88293257e-05,\n",
       "         5.64571904e-06,   1.02057359e-06,   1.71312474e-07,\n",
       "         2.68396818e-08,   3.94227764e-09,   5.45006085e-10,\n",
       "         7.11618940e-11,   8.80295870e-12,   1.03453855e-12,\n",
       "         1.15793141e-13,   1.23711790e-14,   1.26418555e-15,\n",
       "         1.23788644e-16,   1.16343102e-17,   1.05109741e-18,\n",
       "         9.14080036e-20,   7.66111440e-21,   6.19515812e-22,\n",
       "         4.83846438e-23,   3.65282318e-24,   2.66795338e-25,\n",
       "         1.88657950e-26,   1.29226904e-27,   8.57987721e-29,\n",
       "         5.52443663e-30,   3.45042116e-31,   2.09123789e-32,\n",
       "         1.23044616e-33,   7.02831089e-35,   3.89762693e-36,\n",
       "         2.09902877e-37,   1.09766839e-38,   5.57301420e-40,\n",
       "         2.74693911e-41,   1.31408043e-42,   6.09962139e-44,\n",
       "         2.74679736e-45,   1.19920781e-46,   5.07182395e-48,\n",
       "         2.07778507e-49,   8.24243496e-51,   3.16130762e-52,\n",
       "         1.17072667e-53,   4.18601128e-55,   1.44455626e-56,\n",
       "         4.80072713e-58,   1.53268370e-59,   4.69694260e-61,\n",
       "         1.38115730e-62,   3.88844840e-64,   1.04428142e-65,\n",
       "         2.66790962e-67,   6.47609743e-69,   1.49134111e-70,\n",
       "         3.24635713e-72,   6.64285002e-74,   1.26976510e-75,\n",
       "         2.25441281e-77,   3.70244891e-79,   5.61132698e-81,\n",
       "         7.83794253e-83,   1.00768880e-84,   1.19003974e-86,\n",
       "         1.28735231e-88,   1.27141107e-90,   1.14220758e-92,\n",
       "         9.29891490e-95,   6.83251201e-97])"
      ]
     },
     "execution_count": 89,
     "metadata": {},
     "output_type": "execute_result"
    }
   ],
   "source": [
    "result2[100]"
   ]
  },
  {
   "cell_type": "code",
   "execution_count": 90,
   "metadata": {
    "collapsed": true
   },
   "outputs": [],
   "source": [
    "aver_n = []\n",
    "for vec in result2:\n",
    "    n = sum(vec * range(N_max))\n",
    "    aver_n.append(n)"
   ]
  },
  {
   "cell_type": "code",
   "execution_count": 91,
   "metadata": {
    "collapsed": false
   },
   "outputs": [
    {
     "data": {
      "image/png": "[encoded data removed]",
      "text/plain": [
       "<matplotlib.figure.Figure at 0x9c619b0>"
      ]
     },
     "metadata": {},
     "output_type": "display_data"
    }
   ],
   "source": [
    "plt.plot(t_list, aver_n)\n",
    "plt.show()"
   ]
  },
  {
   "cell_type": "markdown",
   "metadata": {},
   "source": [
    "### initial state: coherent"
   ]
  },
  {
   "cell_type": "code",
   "execution_count": 92,
   "metadata": {
    "collapsed": false
   },
   "outputs": [],
   "source": [
    "t_list = np.linspace(0, 400, 3201)\n",
    "rho_0 = coherent_dm(N_max, 1)\n",
    "rho_0 = np.real(coo_matrix(rho_0.data).toarray().reshape(-1))"
   ]
  },
  {
   "cell_type": "code",
   "execution_count": null,
   "metadata": {
    "collapsed": false
   },
   "outputs": [],
   "source": [
    "result3 = odeint(rho_nm_dot, rho_0, t_list)"
   ]
  },
  {
   "cell_type": "code",
   "execution_count": 67,
   "metadata": {
    "collapsed": true
   },
   "outputs": [],
   "source": [
    "result3_rho = [Qobj(vec.reshape(N_max, N_max)) for vec in result3]"
   ]
  },
  {
   "cell_type": "code",
   "execution_count": 68,
   "metadata": {
    "collapsed": true
   },
   "outputs": [],
   "source": [
    "num_op = num(N_max)\n",
    "aver_n = [expect(num_op, rho) for rho in result3_rho]\n",
    "\n",
    "# for vec in result3:\n",
    "#     rho = vec.reshape(N_max, N_max)\n",
    "#     rho = Qobj(rho)\n",
    "#     n = expect(num_op, rho)\n",
    "#     aver_n.append(n)\n"
   ]
  },
  {
   "cell_type": "code",
   "execution_count": 69,
   "metadata": {
    "collapsed": false
   },
   "outputs": [
    {
     "data": {
      "image/png": "[encoded data removed]",
      "text/plain": [
       "<matplotlib.figure.Figure at 0x9c31400>"
      ]
     },
     "metadata": {},
     "output_type": "display_data"
    }
   ],
   "source": [
    "plt.plot(t_list, aver_n)\n",
    "plt.show()"
   ]
  },
  {
   "cell_type": "code",
   "execution_count": 70,
   "metadata": {
    "collapsed": false
   },
   "outputs": [
    {
     "data": {
      "image/png": "[encoded data removed]",
      "text/plain": [
       "<matplotlib.figure.Figure at 0x83477f0>"
      ]
     },
     "metadata": {},
     "output_type": "display_data"
    }
   ],
   "source": [
    "plot_wigner_fock_distribution(result3_rho[801]);"
   ]
  },
  {
   "cell_type": "code",
   "execution_count": null,
   "metadata": {
    "collapsed": true
   },
   "outputs": [],
   "source": []
  }
 ],
 "metadata": {
  "anaconda-cloud": {},
  "kernelspec": {
   "display_name": "Python [conda root]",
   "language": "python",
   "name": "conda-root-py"
  },
  "language_info": {
   "codemirror_mode": {
    "name": "ipython",
    "version": 2
   },
   "file_extension": ".py",
   "mimetype": "text/x-python",
   "name": "python",
   "nbconvert_exporter": "python",
   "pygments_lexer": "ipython2",
   "version": "2.7.12"
  }
 },
 "nbformat": 4,
 "nbformat_minor": 1
}
