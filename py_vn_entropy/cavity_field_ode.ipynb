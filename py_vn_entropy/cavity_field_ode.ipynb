{
 "cells": [
  {
   "cell_type": "code",
   "execution_count": 35,
   "metadata": {
    "collapsed": true
   },
   "outputs": [],
   "source": [
    "import numpy as np\n",
    "import matplotlib.pyplot as plt\n",
    "\n",
    "from scipy.integrate import odeint\n",
    "from scipy.sparse import coo_matrix \n",
    "from qutip import *\n",
    "\n",
    "%matplotlib inline"
   ]
  },
  {
   "cell_type": "code",
   "execution_count": 96,
   "metadata": {
    "collapsed": true
   },
   "outputs": [],
   "source": [
    "# functions to calculate parameters\n",
    "def A(ra, g, gamma):\n",
    "    return 2 * ra * g**2 / gamma**2\n",
    "\n",
    "def B(g, gamma, fA):\n",
    "    return 4 * fA * g**2 / gamma**2\n",
    "\n",
    "def BdA(g, gamma):\n",
    "    return 4 * g**2 / gamma**2\n",
    "\n",
    "def M(n, m, fBdA):\n",
    "    return 0.5 * (n + m + 2) + (n - m)**2 * fBdA / 8\n",
    "\n",
    "def N(n, m, fBdA):\n",
    "    return 0.5 * (n + m + 2) + (n - m)**2 * fBdA / 16\n",
    "\n",
    "def n_p(fA, fB, kappa):\n",
    "    return fA * (fA - kappa) / kappa / fB"
   ]
  },
  {
   "cell_type": "code",
   "execution_count": 157,
   "metadata": {
    "collapsed": true
   },
   "outputs": [],
   "source": [
    "# ordinary differential equation for diagonal terms only\n",
    "def pn_dot(pn, t):\n",
    "    pn_new = np.zeros(N_max)\n",
    "    for n in xrange(N_max):\n",
    "        pn_new[n] += (- (n + 1) * fA / (1 + (n + 1) * fBdA)  - kappa * n) * pn[n]\n",
    "        if n > 0:\n",
    "            pn_new[n] += n * fA / (1 + n * fBdA) * pn[n - 1]\n",
    "        if n < N_max - 1:\n",
    "            pn_new[n] += kappa * (n + 1) * pn[n + 1]\n",
    "    return pn_new"
   ]
  },
  {
   "cell_type": "code",
   "execution_count": 287,
   "metadata": {
    "collapsed": true
   },
   "outputs": [],
   "source": [
    "# coefficients of the differential equation\n",
    "def fnm(n, m, fA, fBdA, kappa):\n",
    "    return - (M(n, m, fBdA) * fA / (1 + N(n, m, fBdA) * fBdA)) - 0.5 * kappa * (n + m)\n",
    "\n",
    "def gnm(n, m, fA, fBdA):\n",
    "    return np.sqrt(n * m) * fA / (1 + N (n - 1, m - 1, fBdA) * fBdA)\n",
    "\n",
    "def hnm(n, m, kappa):\n",
    "    return kappa * np.sqrt((n + 1) * (m + 1))"
   ]
  },
  {
   "cell_type": "code",
   "execution_count": 304,
   "metadata": {
    "collapsed": true
   },
   "outputs": [],
   "source": [
    "# differential equation for the whole density matrix\n",
    "def rho_nm_dot(rho_nm, t):\n",
    "    rho = rho_nm.reshape(N_max, N_max)\n",
    "    rho_new = np.zeros([N_max, N_max])\n",
    "    \n",
    "    ij = range(N_max)\n",
    "    for i in ij:\n",
    "        for j in ij:\n",
    "            rho_new[i, j] += FNM[i, j] * rho[i, j]\n",
    "            if i > 0 and j > 0:\n",
    "                rho_new[i, j] += GNM[i, j] * rho[i - 1, j - 1]\n",
    "            if i < N_max - 1 and j < N_max - 1:\n",
    "                rho_new[i, j] += HNM[i, j] * rho[i + 1, j + 1]\n",
    "    \n",
    "    return rho_new.reshape(-1)"
   ]
  },
  {
   "cell_type": "markdown",
   "metadata": {},
   "source": [
    "## 11.1 Equation of Motion for the Density Matrix of the Cavity Field "
   ]
  },
  {
   "cell_type": "markdown",
   "metadata": {},
   "source": [
    "For $\\rho_{nm}$, we have\n",
    "\n",
    "$$\n",
    "\\begin{aligned}\n",
    "\\dot{\\rho}_{nm} =\n",
    "&- \\frac{M_{nm}A}{1 + N_{nm}B/A} \\rho_{nm} + \\frac{\\sqrt{nm}A}{1 + N_{n-1,m-1}B/A} \\rho_{n-1,m-1} \\\\\n",
    "&- \\frac{C}{2}(n+m)\\rho_{nm} + C\\sqrt{(n+1)(m+1)} \\rho_{n+1, m+1}\n",
    "\\end{aligned}\n",
    "$$\n",
    "\n",
    "where\n",
    "$$\n",
    "\\begin{aligned}\n",
    "A &= \\frac{2r_a g^2}{\\gamma^2},\\\\\n",
    "B &= \\frac{4g^2}{\\gamma^2} A,\\\\\n",
    "M_{nm} &= \\frac{1}{2}(n+m+2) + (n-m)^2\\frac{B}{8A},\\\\\n",
    "N_{nm} &= \\frac{1}{2}(n+m+2) + (n-m)^2\\frac{B}{16A}.\n",
    "\\end{aligned}\n",
    "$$\n",
    "\n",
    "In particular, for diagonal elements, we have\n",
    "\n",
    "$$\n",
    "\\begin{aligned}\n",
    "\\dot{p}(n) =\n",
    "&- \\frac{(n+1)A}{1 + (n+1)B/A} p(n) + \\frac{nA}{1 + nB/A} p(n-1) \\\\\n",
    "&- Cnp(n) + C(n+1)p(n+1)\n",
    "\\end{aligned}\n",
    "$$"
   ]
  },
  {
   "cell_type": "markdown",
   "metadata": {},
   "source": [
    "## 11.2 Photon Statistics"
   ]
  },
  {
   "cell_type": "markdown",
   "metadata": {},
   "source": [
    "### 11.2.1 Linear approximation ($B = 0 $)\n",
    "\n",
    "In the steady state ($\\dot{p}(n)=0$), the equation of motion reduces to\n",
    "\n",
    "$$\n",
    "-A(n+1)p(n) + Anp(n-1) - C np(n) + C(n+1)p(n+1) = 0\n",
    "$$\n",
    "\n",
    "The detailed balance condition implies that\n",
    "\n",
    "$$\n",
    "\\begin{aligned}\n",
    "Anp(n-1) &- C np(n) = 0\\\\\n",
    "A(n+1)p(n) &- C(n+1)p(n+1) = 0\n",
    "\\end{aligned}\n",
    "$$\n",
    "\n",
    "The solution is clearly\n",
    "\n",
    "$$\n",
    "p(n) = \\left(1 - \\frac{A}{C} \\right) \\left( \\frac{A}{C} \\right)^n, ~~~ A < C. \n",
    "$$\n",
    "\n",
    "By defining an effective temperature $T$ by\n",
    "\n",
    "$$\n",
    "\\exp\\left( - \\frac{\\hbar \\nu}{k_B T} \\right) = \\frac{A}{C},\n",
    "$$\n",
    "\n",
    "we could obtain\n",
    "\n",
    "$$\n",
    "p(n) = \\left[1 - \\exp\\left(-\\frac{\\hbar\\nu}{k_B T}\\right) \\right] \\exp\\left(-\\frac{n\\hbar\\nu}{k_B T} \\right).\n",
    "$$\n",
    "\n",
    "So below the threshold, the steady-state solution is essentially that of a black-body cavity."
   ]
  },
  {
   "cell_type": "markdown",
   "metadata": {},
   "source": [
    "**A numerical example**\n",
    "\n",
    "As $B = \\frac{4g^2}{\\gamma^2} A \\to 0$, the interaction strenght must be much smaller than the atom decay rate, i.e. $g \\ll \\gamma$. Another condition should be satisfied is $A < C$. Let's choose the following parameters.\n",
    "\n",
    "- Cavity frequency: $\\omega_c = 2\\pi$\n",
    "- Atom frequency: $\\omega_a = 2\\pi$\n",
    "- Coupling strength: $g = 0.0001 \\times 2\\pi$\n",
    "- atom dissipation rate: $\\gamma = 0.01$\n",
    "- cavity dissipation rate: $C = 0.01$\n",
    "- atom pump rate: $r_a = 0.50$\n",
    "- average thermal photon: $n_{\\rm th} = 0$"
   ]
  },
  {
   "cell_type": "code",
   "execution_count": 348,
   "metadata": {
    "collapsed": true
   },
   "outputs": [],
   "source": [
    "# linear approximation parameters\n",
    "w_c = 2.0 * np.pi\n",
    "w_a = 2.0 * np.pi\n",
    "g = 0.0001 * 2 * np.pi\n",
    "\n",
    "gamma = 0.01\n",
    "kappa = 0.01\n",
    "ra = 0.9\n",
    "\n",
    "N_max = 25\n",
    "\n",
    "fA = A(ra, g, gamma)\n",
    "fB = B(g, gamma, fA)\n",
    "fBdA = BdA(g, gamma)\n",
    "\n",
    "# aver_n = n_p(fA, fB, kappa)"
   ]
  },
  {
   "cell_type": "code",
   "execution_count": 349,
   "metadata": {
    "collapsed": false
   },
   "outputs": [
    {
     "data": {
      "text/plain": [
       "(0.007106115168784337, 0.00011221527287117076, 0.01, 0.7106115168784337)"
      ]
     },
     "execution_count": 349,
     "metadata": {},
     "output_type": "execute_result"
    }
   ],
   "source": [
    "fA, fB, kappa, fA/kappa"
   ]
  },
  {
   "cell_type": "code",
   "execution_count": 350,
   "metadata": {
    "collapsed": false
   },
   "outputs": [
    {
     "data": {
      "text/plain": [
       "0.15915494309189535"
      ]
     },
     "execution_count": 350,
     "metadata": {},
     "output_type": "execute_result"
    }
   ],
   "source": [
    "1 / w_a"
   ]
  },
  {
   "cell_type": "code",
   "execution_count": 351,
   "metadata": {
    "collapsed": false
   },
   "outputs": [
    {
     "name": "stdout",
     "output_type": "stream",
     "text": [
      "CPU times: user 44 ms, sys: 8 ms, total: 52 ms\n",
      "Wall time: 51.2 ms\n"
     ]
    }
   ],
   "source": [
    "t_list = 0.05 * 2 * np.pi / w_c * np.arange(40000)\n",
    "pn_0 = np.zeros(N_max)\n",
    "pn_0[0] = 1\n",
    "\n",
    "%time result1 = odeint(pn_dot, pn_0, t_list)"
   ]
  },
  {
   "cell_type": "code",
   "execution_count": 352,
   "metadata": {
    "collapsed": false
   },
   "outputs": [],
   "source": [
    "n_list = np.arange(N_max)\n",
    "aver_n = [sum(vec * n_list) for vec in result1]"
   ]
  },
  {
   "cell_type": "code",
   "execution_count": 353,
   "metadata": {
    "collapsed": false
   },
   "outputs": [
    {
     "data": {
      "text/plain": [
       "<matplotlib.text.Text at 0x7f195422f050>"
      ]
     },
     "execution_count": 353,
     "metadata": {},
     "output_type": "execute_result"
    },
    {
     "data": {
      "image/png": "[encoded data removed]",
      "text/plain": [
       "<matplotlib.figure.Figure at 0x7f195472cb10>"
      ]
     },
     "metadata": {},
     "output_type": "display_data"
    }
   ],
   "source": [
    "plt.figure(figsize=(8,4))\n",
    "plt.plot(t_list, aver_n)\n",
    "plt.xlabel(\"time\", fontsize=12)\n",
    "plt.ylabel(\"average photon numbers\", fontsize=12)"
   ]
  },
  {
   "cell_type": "code",
   "execution_count": 354,
   "metadata": {
    "collapsed": true
   },
   "outputs": [],
   "source": [
    "ratio = fA/kappa\n",
    "n_list = np.arange(N_max)\n",
    "pn_list = [(1 - ratio) * ratio ** n for n in n_list]"
   ]
  },
  {
   "cell_type": "code",
   "execution_count": 358,
   "metadata": {
    "collapsed": false
   },
   "outputs": [
    {
     "data": {
      "image/png": "[encoded data removed]",
      "text/plain": [
       "<matplotlib.figure.Figure at 0x7f1954348e90>"
      ]
     },
     "metadata": {},
     "output_type": "display_data"
    }
   ],
   "source": [
    "fig, ax = plt.subplots(figsize=(12,4))\n",
    "\n",
    "w = 0.35\n",
    "ax.bar(n_list, result1[-1], color=\"Green\", width=w)\n",
    "ax.bar(n_list + w, pn_list, color=\"SteelBlue\", width=w)\n",
    "plt.xlabel(\"Simulated Photon Statistics\", fontsize=12)\n",
    "plt.ylabel(\"occupation probability\", fontsize=12)\n",
    "plt.title(\"Expected Photon Statistcs\")\n",
    "plt.xlim(-1, 15);"
   ]
  },
  {
   "cell_type": "markdown",
   "metadata": {},
   "source": [
    "### 11.2.2 Far above threshold ($A \\gg C$)\n",
    "\n",
    "In the steady state ($\\dot{p}(n)=0$), the equation of motion reduces to\n",
    "\n",
    "$$\n",
    "-\\frac{A^2}{B}p(n) + \\frac{A^2}{B}p(n-1) - C np(n) + C(n+1)p(n+1) = 0.\n",
    "$$\n",
    "\n",
    "Detailed balance condition is\n",
    "\n",
    "$$\n",
    "\\frac{A^2}{B} p(n-1) - C n p(n) = 0\n",
    "$$\n",
    "\n",
    "The normalized solution of these euqaitons is \n",
    "\n",
    "$$\n",
    "p(n) = e^{- \\langle n \\rangle} \\frac{- \\langle n \\rangle ^ n}{n!},\n",
    "$$\n",
    "\n",
    "with\n",
    "\n",
    "$$\n",
    "\\langle n \\rangle = \\frac{A^2}{BC}.\n",
    "$$\n",
    "\n",
    "Thus the photon statistics of the lasre far above threshold are given by a Poisson distribution which is a characteristic of a coherent state."
   ]
  },
  {
   "cell_type": "markdown",
   "metadata": {},
   "source": [
    "**A numerical example**\n",
    "\n",
    "As $A \\gg C$. Let's choose the following parameters.\n",
    "\n",
    "- Cavity frequency: $\\omega_c = 2\\pi$\n",
    "- Atom frequency: $\\omega_a = 2\\pi$\n",
    "- Coupling strength: $g = 0.01 \\times 2\\pi$\n",
    "- atom dissipation rate: $\\gamma = 0.01$\n",
    "- cavity dissipation rate: $C = 0.01$\n",
    "- atom pump rate: $r_a = 0.50$\n",
    "- average thermal photon: $n_{\\rm th} = 0$"
   ]
  },
  {
   "cell_type": "code",
   "execution_count": 359,
   "metadata": {
    "collapsed": true
   },
   "outputs": [],
   "source": [
    "# linear approximation parameters\n",
    "w_c = 2.0 * np.pi\n",
    "w_a = 2.0 * np.pi\n",
    "g = 0.01 * 2 * np.pi\n",
    "\n",
    "gamma = 0.01\n",
    "kappa = 0.01\n",
    "ra = 0.4\n",
    "\n",
    "N_max = 60\n",
    "\n",
    "fA = A(ra, g, gamma)\n",
    "fB = B(g, gamma, fA)\n",
    "fBdA = BdA(g, gamma)\n",
    "\n",
    "aver_n = n_p(fA, fB, kappa)"
   ]
  },
  {
   "cell_type": "code",
   "execution_count": 360,
   "metadata": {
    "collapsed": false
   },
   "outputs": [
    {
     "data": {
      "text/plain": [
       "(31.58273408348595,\n",
       " 4987.345460940925,\n",
       " 0.01,\n",
       " 3158.273408348595,\n",
       " 19.993667426022355)"
      ]
     },
     "execution_count": 360,
     "metadata": {},
     "output_type": "execute_result"
    }
   ],
   "source": [
    "fA, fB, kappa, fA/kappa, aver_n"
   ]
  },
  {
   "cell_type": "code",
   "execution_count": 361,
   "metadata": {
    "collapsed": false
   },
   "outputs": [
    {
     "name": "stdout",
     "output_type": "stream",
     "text": [
      "CPU times: user 156 ms, sys: 4 ms, total: 160 ms\n",
      "Wall time: 161 ms\n"
     ]
    }
   ],
   "source": [
    "t_list = 0.02 * 2 * np.pi / w_c * np.arange(40000)\n",
    "pn_0 = np.zeros(N_max)\n",
    "pn_0[0] = 1\n",
    "\n",
    "%time result2 = odeint(pn_dot, pn_0, t_list)"
   ]
  },
  {
   "cell_type": "code",
   "execution_count": 362,
   "metadata": {
    "collapsed": false
   },
   "outputs": [],
   "source": [
    "n_list = np.arange(N_max)\n",
    "aver_n = [sum(vec * n_list) for vec in result2]"
   ]
  },
  {
   "cell_type": "code",
   "execution_count": 364,
   "metadata": {
    "collapsed": false
   },
   "outputs": [
    {
     "data": {
      "text/plain": [
       "<matplotlib.text.Text at 0x7f19548f9b50>"
      ]
     },
     "execution_count": 364,
     "metadata": {},
     "output_type": "execute_result"
    },
    {
     "data": {
      "image/png": "[encoded data removed]",
      "text/plain": [
       "<matplotlib.figure.Figure at 0x7f195448afd0>"
      ]
     },
     "metadata": {},
     "output_type": "display_data"
    }
   ],
   "source": [
    "plt.figure(figsize=(8,4))\n",
    "plt.plot(t_list, aver_n)\n",
    "plt.xlabel(\"time\", fontsize=12)\n",
    "plt.ylabel(\"average photon numbers\", fontsize=12)"
   ]
  },
  {
   "cell_type": "code",
   "execution_count": 365,
   "metadata": {
    "collapsed": false
   },
   "outputs": [],
   "source": [
    "ne = fA**2/kappa/fB\n",
    "n_list = np.arange(N_max)\n",
    "pn_list = [np.exp(-ne) * ne**n / np.math.factorial(n) for n in n_list]"
   ]
  },
  {
   "cell_type": "code",
   "execution_count": 369,
   "metadata": {
    "collapsed": false
   },
   "outputs": [
    {
     "data": {
      "image/png": "[encoded data removed]",
      "text/plain": [
       "<matplotlib.figure.Figure at 0x7f1955715e10>"
      ]
     },
     "metadata": {},
     "output_type": "display_data"
    }
   ],
   "source": [
    "fig, ax = plt.subplots(figsize=(12,4))\n",
    "ax.bar(n_list, result2[-1], color=\"Orange\", width=0.35, label=\"Simulated\")\n",
    "ax.bar(n_list + 0.35, pn_list, color=\"Steelblue\", width=0.35, label=\"Theorecital\")\n",
    "plt.xlabel(\"Simulated Photon Statistics\", fontsize=12)\n",
    "plt.ylabel(\"occupation probability\", fontsize=12)\n",
    "plt.title(\"Photon Statistcs\")\n",
    "plt.legend()\n",
    "plt.xlim(5, 35);"
   ]
  },
  {
   "cell_type": "markdown",
   "metadata": {},
   "source": [
    "### 2. initial state: coherent state"
   ]
  },
  {
   "cell_type": "code",
   "execution_count": null,
   "metadata": {
    "collapsed": true
   },
   "outputs": [],
   "source": [
    "# parameters in the differential equation\n",
    "ij = range(N_max)\n",
    "FNM = np.array([fnm(i, j, fA, fBdA, kappa) for i in ij for j in ij]).reshape(N_max, N_max)\n",
    "GNM = np.array([gnm(i, j, fA, fBdA) for i in ij for j in ij]).reshape(N_max, N_max)\n",
    "HNM = np.array([hnm(i, j, kappa) for i in ij for j in ij]).reshape(N_max, N_max)"
   ]
  },
  {
   "cell_type": "code",
   "execution_count": 79,
   "metadata": {
    "collapsed": false
   },
   "outputs": [],
   "source": [
    "t_list = np.linspace(0, 400, 1601)\n",
    "rho_0 = coherent_dm(N_max, 1)\n",
    "rho_0 = np.real(coo_matrix(rho_0.data).toarray().reshape(-1))"
   ]
  },
  {
   "cell_type": "code",
   "execution_count": 80,
   "metadata": {
    "collapsed": false
   },
   "outputs": [
    {
     "name": "stdout",
     "output_type": "stream",
     "text": [
      "CPU times: user 8min 27s, sys: 560 ms, total: 8min 27s\n",
      "Wall time: 7min 47s\n"
     ]
    }
   ],
   "source": [
    "%time result3 = odeint(rho_nm_dot, rho_0, t_list)"
   ]
  },
  {
   "cell_type": "code",
   "execution_count": 81,
   "metadata": {
    "collapsed": true
   },
   "outputs": [],
   "source": [
    "result3_rho = [Qobj(vec.reshape(N_max, N_max)) for vec in result3]"
   ]
  },
  {
   "cell_type": "code",
   "execution_count": 83,
   "metadata": {
    "collapsed": true
   },
   "outputs": [],
   "source": [
    "num_op = num(N_max)\n",
    "aver_n = [expect(num_op, rho) for rho in result3_rho]"
   ]
  },
  {
   "cell_type": "code",
   "execution_count": 95,
   "metadata": {
    "collapsed": false
   },
   "outputs": [
    {
     "data": {
      "text/plain": [
       "<matplotlib.text.Text at 0x7f1968d38590>"
      ]
     },
     "execution_count": 95,
     "metadata": {},
     "output_type": "execute_result"
    },
    {
     "data": {
      "image/png": "[encoded data removed]",
      "text/plain": [
       "<matplotlib.figure.Figure at 0x7f1968e5d650>"
      ]
     },
     "metadata": {},
     "output_type": "display_data"
    }
   ],
   "source": [
    "plt.figure(figsize=(8,6))\n",
    "plt.plot(t_list, aver_n)\n",
    "plt.ylim(0, 20)\n",
    "plt.xlabel(\"time\")\n",
    "plt.ylabel(\"average photon numbers\")"
   ]
  },
  {
   "cell_type": "code",
   "execution_count": 88,
   "metadata": {
    "collapsed": false
   },
   "outputs": [
    {
     "data": {
      "image/png": "[encoded data removed]",
      "text/plain": [
       "<matplotlib.figure.Figure at 0x7f1968a8ee90>"
      ]
     },
     "metadata": {},
     "output_type": "display_data"
    }
   ],
   "source": [
    "plot_wigner_fock_distribution(result3_rho[1600]);"
   ]
  },
  {
   "cell_type": "code",
   "execution_count": null,
   "metadata": {
    "collapsed": true
   },
   "outputs": [],
   "source": []
  }
 ],
 "metadata": {
  "anaconda-cloud": {},
  "kernelspec": {
   "display_name": "Python 2",
   "language": "python",
   "name": "python2"
  },
  "language_info": {
   "codemirror_mode": {
    "name": "ipython",
    "version": 2
   },
   "file_extension": ".py",
   "mimetype": "text/x-python",
   "name": "python",
   "nbconvert_exporter": "python",
   "pygments_lexer": "ipython2",
   "version": "2.7.13"
  }
 },
 "nbformat": 4,
 "nbformat_minor": 1
}
