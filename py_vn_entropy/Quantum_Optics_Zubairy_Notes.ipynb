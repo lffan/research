{
 "cells": [
  {
   "cell_type": "code",
   "execution_count": 1,
   "metadata": {
    "collapsed": true
   },
   "outputs": [],
   "source": [
    "import numpy as np\n",
    "import matplotlib.pyplot as plt\n",
    "from qutip import *"
   ]
  },
  {
   "cell_type": "markdown",
   "metadata": {},
   "source": [
    "**new latex command for braket**\n",
    "$\n",
    "% basic braket\n",
    "\\newcommand{\\bra}[2][]{\\mathinner{\\langle #2\\rvert}_{#1}}\n",
    "\\newcommand{\\ket}[2][]{\\mathinner{\\lvert#2\\rangle}_{\\hspace{-0.1em}#1}}\n",
    "\\newcommand{\\Bra}[2][]{\\left<#2\\right|_{#1}}\n",
    "\\newcommand{\\Ket}[2][]{\\left|#2\\right>_{\\hspace{-0.1em}#1}}\n",
    "\\newcommand{\\bigBra}[2][]{\\bigl<#2\\bigr|_{#1}}\n",
    "\\newcommand{\\bigKet}[2][]{\\bigl|#2\\bigr>_{\\hspace{-0.1em}#1}}\n",
    "\\newcommand{\\BigBra}[2][]{\\Bigl<#2\\Bigr|_{#1}}\n",
    "\\newcommand{\\BigKet}[2][]{\\Bigl|#2\\Bigr>_{\\hspace{-0.1em}#1}}\n",
    "\\newcommand{\\biggBra}[2][]{\\biggl<#2\\biggr|_{#1}}\n",
    "\\newcommand{\\biggKet}[2][]{\\biggl|#2\\biggr>_{\\hspace{-0.1em}#1}}\n",
    "\\newcommand{\\BiggBra}[2][]{\\Biggl<#2\\Biggr|_{#1}}\n",
    "\\newcommand{\\BiggKet}[2][]{\\Biggl|#2\\Biggr>_{\\hspace{-0.1em}#1}}\n",
    "% ---- compound Dirac notation ----\n",
    "\\newcommand{\\ketbra}[3][]{\\mathinner{\\lvert#2\\rangle\\langle#3\\rvert}_{#1}}\n",
    "\\newcommand{\\braket}[3][]{\\mathinner{\\langle#2\\vert#3\\rangle}_{}#1}\n",
    "\\newcommand{\\Ketbra}[3][]{\\left|#2\\middle>\\middle<#3\\right|_{#1}}\n",
    "\\newcommand{\\proj}[2][]{\\ketbra[#1]{#2}{#2}}\n",
    "\\newcommand{\\Proj}[2][]{\\Ketbra[#1]{#2}{#2}}\n",
    "% ---- mathrm ----\n",
    "\\newcommand{\\mr}[2][]{\\mathrm{#2}_{#1}}\n",
    "% ---- partial derivative -----\n",
    "\\newcommand{\\pdv}[3][]{\\frac{\\partial#2}{\\partial#3}_{#1}}\n",
    "$"
   ]
  },
  {
   "cell_type": "markdown",
   "metadata": {},
   "source": [
    "## 5.4 Maxwell-Shrodinger equations"
   ]
  },
  {
   "cell_type": "markdown",
   "metadata": {},
   "source": [
    "The **Shrodinger equation** for density matrix fo a single two-level **atom** is given by\n",
    "\n",
    "$$\n",
    "\\begin{aligned}\n",
    "    \\dot{\\rho}_{aa} &= r_a \\rho^{(0)}_{aa} - \\gamma_a \\rho_{aa} + \\frac{i}{\\hbar} [\\wp_{ab} E \\rho_{ba} - \\mr{c.c.}],\\\\\n",
    "    \\dot{\\rho}_{bb} &= r_b \\rho^{(0)}_{bb} - \\gamma_b \\rho_{bb} - \\frac{i}{\\hbar} [\\wp_{ab} E \\rho_{ba} - \\mr{c.c.}],\\\\\n",
    "    \\dot{\\rho}_{ab} &= - (i \\omega + \\gamma) \\rho_{ab} - \\frac{i}{\\hbar} \\wp_{ab} E (\\rho_{aa} - \\rho_{bb}).\n",
    "\\end{aligned}\n",
    "$$\n",
    "\n",
    "The **Maxwell's equations** for the slowly varying single-mode **field** are given by\n",
    "\n",
    "$$\n",
    "\\begin{aligned}\n",
    "\\pdv{E}{z} + \\frac{1}{c} \\pdv{E}{t} &= - \\kappa E - \\frac{1}{2\\epsilon_0} k \\Im P,\\\\\n",
    "\\pdv{\\phi}{z} + \\frac{1}{c} \\pdv{\\phi}{t} &= k - \\frac{\\nu}{c} - \\frac{1}{2\\epsilon_0} k E^{-1} \\Re P,\n",
    "\\end{aligned}\n",
    "$$\n",
    "\n",
    "where $P$ is the slowly varying complex polarization given by $P(z, t) = 2 \\wp \\rho_{ab} \\exp(\\nu t - kz + \\phi(z, t))$."
   ]
  },
  {
   "cell_type": "markdown",
   "metadata": {},
   "source": [
    "## 6.1 Atom-field interaction Hamiltonian"
   ]
  },
  {
   "cell_type": "markdown",
   "metadata": {},
   "source": [
    "The interactio Hamiltonian is given by\n",
    "$$\n",
    "H = \\sum_{k} \\hbar \\nu_k a^{\\dagger}_k a_k\n",
    "+ \\frac{1}{2} \\hbar \\omega \\sigma_z\n",
    "+ \\hbar \\sum_k g_k (\\sigma_+ + \\sigma_-)(a_k + a^{\\dagger}_k)\n",
    "$$\n",
    "The Pauli operators are defined by\n",
    "$$\n",
    "\\begin{aligned}\n",
    "\\sigma_z &= \\sigma_{aa} - \\sigma_{bb} = \\proj{a} - \\proj{b}\\\\\n",
    "\\sigma_+ &= \\sigma_{ab} = \\ketbra{a}{b}\\\\\n",
    "\\sigma_- &= \\sigma_{ba} = \\ketbra{b}{a}\n",
    "\\end{aligned}\n",
    "$$\n",
    "And they satisfy that\n",
    "$$\n",
    "[\\sigma_-, \\sigma_+] = - \\sigma_z,~\\mr{and}~ [\\sigma_-, \\sigma_z] = 2\\sigma_-\n",
    "$$\n",
    "The interaciton under rotating-wave approximation is given by\n",
    "$$\n",
    "H = \\sum_{k} \\hbar \\nu_k a^{\\dagger}_k a_k\n",
    "+ \\frac{1}{2} \\hbar \\omega \\sigma_z\n",
    "+ \\hbar \\sum_k g_k (\\sigma_+ a_k + a^{\\dagger}_k \\sigma_-)\n",
    "$$"
   ]
  },
  {
   "cell_type": "code",
   "execution_count": 4,
   "metadata": {
    "collapsed": false
   },
   "outputs": [
    {
     "data": {
      "text/latex": [
       "Quantum object: dims = [[2], [2]], shape = [2, 2], type = oper, isherm = True\\begin{equation*}\\left(\\begin{array}{*{11}c}0.0 & 1.0\\\\1.0 & 0.0\\\\\\end{array}\\right)\\end{equation*}"
      ],
      "text/plain": [
       "Quantum object: dims = [[2], [2]], shape = [2, 2], type = oper, isherm = True\n",
       "Qobj data =\n",
       "[[ 0.  1.]\n",
       " [ 1.  0.]]"
      ]
     },
     "execution_count": 4,
     "metadata": {},
     "output_type": "execute_result"
    }
   ],
   "source": [
    "sigmax()"
   ]
  },
  {
   "cell_type": "code",
   "execution_count": 5,
   "metadata": {
    "collapsed": false
   },
   "outputs": [
    {
     "data": {
      "text/latex": [
       "Quantum object: dims = [[2], [2]], shape = [2, 2], type = oper, isherm = True\\begin{equation*}\\left(\\begin{array}{*{11}c}0.0 & -1.0j\\\\1.0j & 0.0\\\\\\end{array}\\right)\\end{equation*}"
      ],
      "text/plain": [
       "Quantum object: dims = [[2], [2]], shape = [2, 2], type = oper, isherm = True\n",
       "Qobj data =\n",
       "[[ 0.+0.j  0.-1.j]\n",
       " [ 0.+1.j  0.+0.j]]"
      ]
     },
     "execution_count": 5,
     "metadata": {},
     "output_type": "execute_result"
    }
   ],
   "source": [
    "sigmay()"
   ]
  },
  {
   "cell_type": "code",
   "execution_count": 6,
   "metadata": {
    "collapsed": false
   },
   "outputs": [
    {
     "data": {
      "text/latex": [
       "Quantum object: dims = [[2], [2]], shape = [2, 2], type = oper, isherm = True\\begin{equation*}\\left(\\begin{array}{*{11}c}1.0 & 0.0\\\\0.0 & -1.0\\\\\\end{array}\\right)\\end{equation*}"
      ],
      "text/plain": [
       "Quantum object: dims = [[2], [2]], shape = [2, 2], type = oper, isherm = True\n",
       "Qobj data =\n",
       "[[ 1.  0.]\n",
       " [ 0. -1.]]"
      ]
     },
     "execution_count": 6,
     "metadata": {},
     "output_type": "execute_result"
    }
   ],
   "source": [
    "sigmaz()"
   ]
  },
  {
   "cell_type": "code",
   "execution_count": 7,
   "metadata": {
    "collapsed": false
   },
   "outputs": [
    {
     "data": {
      "text/latex": [
       "Quantum object: dims = [[2], [2]], shape = [2, 2], type = oper, isherm = False\\begin{equation*}\\left(\\begin{array}{*{11}c}0.0 & 1.0\\\\0.0 & 0.0\\\\\\end{array}\\right)\\end{equation*}"
      ],
      "text/plain": [
       "Quantum object: dims = [[2], [2]], shape = [2, 2], type = oper, isherm = False\n",
       "Qobj data =\n",
       "[[ 0.  1.]\n",
       " [ 0.  0.]]"
      ]
     },
     "execution_count": 7,
     "metadata": {},
     "output_type": "execute_result"
    }
   ],
   "source": [
    "sigmap()"
   ]
  },
  {
   "cell_type": "code",
   "execution_count": 8,
   "metadata": {
    "collapsed": false
   },
   "outputs": [
    {
     "data": {
      "text/latex": [
       "Quantum object: dims = [[2], [2]], shape = [2, 2], type = oper, isherm = False\\begin{equation*}\\left(\\begin{array}{*{11}c}0.0 & 0.0\\\\1.0 & 0.0\\\\\\end{array}\\right)\\end{equation*}"
      ],
      "text/plain": [
       "Quantum object: dims = [[2], [2]], shape = [2, 2], type = oper, isherm = False\n",
       "Qobj data =\n",
       "[[ 0.  0.]\n",
       " [ 1.  0.]]"
      ]
     },
     "execution_count": 8,
     "metadata": {},
     "output_type": "execute_result"
    }
   ],
   "source": [
    "sigmam()"
   ]
  },
  {
   "cell_type": "code",
   "execution_count": 34,
   "metadata": {
    "collapsed": false
   },
   "outputs": [
    {
     "data": {
      "text/latex": [
       "Quantum object: dims = [[2], [2]], shape = [2, 2], type = oper, isherm = False\\begin{equation*}\\left(\\begin{array}{*{11}c}0.0 & 1.0\\\\0.0 & 0.0\\\\\\end{array}\\right)\\end{equation*}"
      ],
      "text/plain": [
       "Quantum object: dims = [[2], [2]], shape = [2, 2], type = oper, isherm = False\n",
       "Qobj data =\n",
       "[[ 0.  1.]\n",
       " [ 0.  0.]]"
      ]
     },
     "execution_count": 34,
     "metadata": {},
     "output_type": "execute_result"
    }
   ],
   "source": [
    "destroy(2)"
   ]
  },
  {
   "cell_type": "code",
   "execution_count": 37,
   "metadata": {
    "collapsed": false
   },
   "outputs": [
    {
     "data": {
      "text/latex": [
       "Quantum object: dims = [[2], [2]], shape = [2, 2], type = oper, isherm = False\\begin{equation*}\\left(\\begin{array}{*{11}c}0.0 & 0.0\\\\1.0 & 0.0\\\\\\end{array}\\right)\\end{equation*}"
      ],
      "text/plain": [
       "Quantum object: dims = [[2], [2]], shape = [2, 2], type = oper, isherm = False\n",
       "Qobj data =\n",
       "[[ 0.  0.]\n",
       " [ 1.  0.]]"
      ]
     },
     "execution_count": 37,
     "metadata": {},
     "output_type": "execute_result"
    }
   ],
   "source": [
    "create(2)"
   ]
  },
  {
   "cell_type": "markdown",
   "metadata": {},
   "source": [
    "**Attention for Qubit (two-level) System**\n",
    "\n",
    "The Pauli matrces defined in QuTip use the standard z-basis representation of the sigma-z spin operator. Therefore the spin up and spin down states are defined by"
   ]
  },
  {
   "cell_type": "code",
   "execution_count": 79,
   "metadata": {
    "collapsed": true
   },
   "outputs": [],
   "source": [
    "spin_up = fock(2, 0)\n",
    "spin_down = fock(2, 1)"
   ]
  },
  {
   "cell_type": "code",
   "execution_count": 80,
   "metadata": {
    "collapsed": false
   },
   "outputs": [
    {
     "data": {
      "text/latex": [
       "Quantum object: dims = [[2], [1]], shape = [2, 1], type = ket\\begin{equation*}\\left(\\begin{array}{*{11}c}1.0\\\\0.0\\\\\\end{array}\\right)\\end{equation*}"
      ],
      "text/plain": [
       "Quantum object: dims = [[2], [1]], shape = [2, 1], type = ket\n",
       "Qobj data =\n",
       "[[ 1.]\n",
       " [ 0.]]"
      ]
     },
     "execution_count": 80,
     "metadata": {},
     "output_type": "execute_result"
    }
   ],
   "source": [
    "spin_up"
   ]
  },
  {
   "cell_type": "code",
   "execution_count": 81,
   "metadata": {
    "collapsed": false
   },
   "outputs": [
    {
     "data": {
      "text/latex": [
       "Quantum object: dims = [[2], [1]], shape = [2, 1], type = ket\\begin{equation*}\\left(\\begin{array}{*{11}c}0.0\\\\1.0\\\\\\end{array}\\right)\\end{equation*}"
      ],
      "text/plain": [
       "Quantum object: dims = [[2], [1]], shape = [2, 1], type = ket\n",
       "Qobj data =\n",
       "[[ 0.]\n",
       " [ 1.]]"
      ]
     },
     "execution_count": 81,
     "metadata": {},
     "output_type": "execute_result"
    }
   ],
   "source": [
    "spin_down"
   ]
  },
  {
   "cell_type": "markdown",
   "metadata": {},
   "source": [
    "So actually the excited state of a spin is the groud state of a fock state. The ground state of a spin is the first excited state of a fock state. Now let's check if the laddar operators work."
   ]
  },
  {
   "cell_type": "code",
   "execution_count": 82,
   "metadata": {
    "collapsed": false
   },
   "outputs": [
    {
     "data": {
      "text/latex": [
       "Quantum object: dims = [[2], [1]], shape = [2, 1], type = ket\\begin{equation*}\\left(\\begin{array}{*{11}c}1.0\\\\0.0\\\\\\end{array}\\right)\\end{equation*}"
      ],
      "text/plain": [
       "Quantum object: dims = [[2], [1]], shape = [2, 1], type = ket\n",
       "Qobj data =\n",
       "[[ 1.]\n",
       " [ 0.]]"
      ]
     },
     "execution_count": 82,
     "metadata": {},
     "output_type": "execute_result"
    }
   ],
   "source": [
    "sigmap() * spin_down"
   ]
  },
  {
   "cell_type": "code",
   "execution_count": 83,
   "metadata": {
    "collapsed": false
   },
   "outputs": [
    {
     "data": {
      "text/latex": [
       "Quantum object: dims = [[2], [1]], shape = [2, 1], type = ket\\begin{equation*}\\left(\\begin{array}{*{11}c}0.0\\\\1.0\\\\\\end{array}\\right)\\end{equation*}"
      ],
      "text/plain": [
       "Quantum object: dims = [[2], [1]], shape = [2, 1], type = ket\n",
       "Qobj data =\n",
       "[[ 0.]\n",
       " [ 1.]]"
      ]
     },
     "execution_count": 83,
     "metadata": {},
     "output_type": "execute_result"
    }
   ],
   "source": [
    "sigmam() * spin_up"
   ]
  },
  {
   "cell_type": "markdown",
   "metadata": {},
   "source": [
    "## 6.2 Interaction of a single two-level atom with a single-mode field"
   ]
  },
  {
   "cell_type": "markdown",
   "metadata": {},
   "source": [
    "For the interaction of a single-mode quantized field with a single two-level atom, we have\n",
    "\n",
    "$$\n",
    "H = \\hbar \\nu a^{\\dagger} a\n",
    "+ \\frac{1}{2} \\hbar \\omega \\sigma_z\n",
    "+ \\hbar g (\\sigma_+ a + a^{\\dagger} \\sigma_-)\n",
    "$$\n",
    "\n",
    "The Hamiltonian in the interaction picture is given by Eq. (6.2.8)\n",
    "\n",
    "$$\n",
    "V = \\hbar g (\\sigma_+ a e^{i\\Delta t} + a^{\\dagger} \\sigma_- e^{-i \\Delta t}),\n",
    "$$\n",
    "\n",
    "where $\\Delta = \\omega - \\nu$."
   ]
  },
  {
   "cell_type": "markdown",
   "metadata": {},
   "source": [
    "### 6.2.1 Probability amplitude method"
   ]
  },
  {
   "cell_type": "markdown",
   "metadata": {},
   "source": [
    "The state vector is given by\n",
    "$$\n",
    "\\ket{\\psi} = \\sum_n [c_{a,n}(t)\\ket{a,n} + c_{b,n}\\ket{b,n}]\n",
    "$$\n",
    "Using Shrodinger equation, we obtain\n",
    "$$\n",
    "\\begin{aligned}\n",
    "\\dot{c}_{a,n} &= -ig\\sqrt{n+1}e^{i \\Delta t} c_{b,n+1}\\\\\n",
    "\\dot{c}_{b,n+1} &= -ig\\sqrt{n+1}e^{-i \\Delta t} c_{a,n}\n",
    "\\end{aligned}\n",
    "$$"
   ]
  },
  {
   "cell_type": "code",
   "execution_count": 77,
   "metadata": {
    "collapsed": false
   },
   "outputs": [],
   "source": [
    "# show the results in Fig. 6.2\n",
    "# initially the atom is in the excited state\n",
    "# and the field is an coherent state\n",
    "psi0 = tensor(fock(2, 0), coherent(50, 5))\n",
    "# time\n",
    "times = np.linspace(0.0, 80, 800)\n",
    "# Hamiltonian\n",
    "a = tensor(qeye(2), destroy(50))\n",
    "sz = tensor(sigmaz(), qeye(50))\n",
    "sm = tensor(sigmam(), qeye(50))\n",
    "v = 2 * np.pi\n",
    "w = 2 * np.pi\n",
    "g = 2 * np.pi * 0.1\n",
    "H = v * a.dag() * a + 0.5 * w * sz +  g * (sm * a.dag() + sm.dag() * a)\n",
    "# solve\n",
    "result = mesolve(H, psi0, times, [], [sz])"
   ]
  },
  {
   "cell_type": "code",
   "execution_count": 78,
   "metadata": {
    "collapsed": false
   },
   "outputs": [
    {
     "data": {
      "image/png": "[encoded data removed]",
      "text/plain": [
       "<matplotlib.figure.Figure at 0xb1075c0>"
      ]
     },
     "metadata": {},
     "output_type": "display_data"
    }
   ],
   "source": [
    "fig, ax = plt.subplots()\n",
    "ax.plot(result.times * g, result.expect[0])\n",
    "ax.set_xlabel('$gt$')\n",
    "ax.set_ylabel('$W(t)$')\n",
    "ax.set_xlim([0, 50])\n",
    "plt.show()"
   ]
  },
  {
   "cell_type": "markdown",
   "metadata": {},
   "source": [
    "### 6.2.2 Heisenberg operator method\n",
    "\n",
    "### 6.2.3 Unitary time-evolution operator method"
   ]
  },
  {
   "cell_type": "markdown",
   "metadata": {},
   "source": [
    "## 6.3 Weisskopf-Wigner theory of spontaneous emission between two atomic levels"
   ]
  },
  {
   "cell_type": "markdown",
   "metadata": {},
   "source": [
    "The decay constant is given by\n",
    "\n",
    "$$\n",
    "\\Gamma = \\frac{1}{4 \\pi \\epsilon_0} \\frac{4 \\omega^3 \\wp_{ab}^2}{3 \\hbar c^3}.\n",
    "$$"
   ]
  },
  {
   "cell_type": "markdown",
   "metadata": {},
   "source": [
    "## 8.2 Atomic decay by thermal and squeezed vacuum reservoirs\n",
    "\n",
    "In the interaction picture and the rotating-wave approximation, the Hamiltonian is simply\n",
    "\n",
    "$$\n",
    "V(t) = \\hbar \\sum_k g_k [b^{\\dagger}_k \\sigma_- e^{-i(\\omega - v_k)t} + \\sigma_+ b_k e^{i(\\omega - v_k)t}], \n",
    "$$\n",
    "\n",
    "where $\\omega$ is the frequency of the atom, and $b_k$ is the annihilation opertor for the reservoir."
   ]
  },
  {
   "cell_type": "markdown",
   "metadata": {},
   "source": [
    "**Thermal reservoir**\n",
    "\n",
    "The evolution equation for the reduced density operator $\\rho_{\\mr{atom}}$ is given by\n",
    "\n",
    "$$\n",
    "\\begin{aligned}\n",
    "\\dot{\\rho}_{\\mr{atom}}(t) = &- \\bar{n} \\frac{\\Gamma}{2} [\\sigma_- \\sigma_+ \\rho_{\\mr{atom}}(t) - \\sigma_+ \\rho_{\\mr{atom}}(t) \\sigma_-] \\\\\n",
    "&- (\\bar{n} + 1) \\frac{\\Gamma}{2} [\\sigma_+ \\sigma_- \\rho_{\\mr{atom}}(t) - \\sigma_- \\rho_{\\mr{atom}}(t) \\sigma_+] \\\\\n",
    "&+ \\mr{H.c}\n",
    "\\end{aligned}\n",
    "$$\n",
    "\n",
    "**Squeezed vacuum reservoir**\n",
    "\n",
    "The evolution equation for the reduced density operator $\\rho_{\\mr{atom}}$ is given by\n",
    "\n",
    "$$\n",
    "\\begin{aligned}\n",
    "\\dot{\\rho}_{\\mr{atom}} = \n",
    "&- \\frac{\\Gamma}{2} \\cosh^2 r (\\sigma_+ \\sigma_- \\rho_{\\mr{atom}}   - 2\\sigma_- \\rho_{\\mr{atom}} \\sigma_+ + \\rho_{\\mr{atom}} \\sigma_+ \\sigma_-) \\\\\n",
    "&- \\frac{\\Gamma}{2} \\sinh^2 r (\\sigma_- \\sigma_+ \\rho_{\\mr{atom}}   - 2\\sigma_+ \\rho_{\\mr{atom}} \\sigma_- + \\rho_{\\mr{atom}} \\sigma_- \\sigma_+) \\\\\n",
    "&- \\Gamma e^{- i\\theta} \\sinh r \\cosh r ~\\rho_{\\mr{atom}} \\sigma_+\\\\\n",
    "&- \\Gamma e^{- i\\theta} \\sinh r \\cosh r ~\\rho_{\\mr{atom}} \\sigma_+\n",
    "\\end{aligned}\n",
    "$$"
   ]
  },
  {
   "cell_type": "markdown",
   "metadata": {},
   "source": [
    "## 8.3 Field damping"
   ]
  },
  {
   "cell_type": "markdown",
   "metadata": {},
   "source": [
    "In the interaction picture and the rotating-wave approximation, the Hamiltioniam is given by\n",
    "\n",
    "$$\n",
    "V(t) = \\hbar \\sum_k g_k [b^{\\dagger}_k a e^{-i(\\omega - v_k)t} + a^{\\dagger} b_k e^{i(\\omega - v_k)t}], \n",
    "$$\n",
    "\n",
    "where $a$ is the annihilation operator for the mode of interest, and $b_k$ is for the reservoir.\n",
    "\n",
    "**Thermal reservoir**\n",
    "\n",
    "The evolution equation is given as\n",
    "\n",
    "$$\n",
    "\\begin{aligned}\n",
    "\\dot{\\rho} = &- \\frac{l}{2} \\bar{n}_{\\mr{th}} (a a^{\\dagger} \\rho - 2 a^{\\dagger} \\rho a + \\rho a a^{\\dagger}) \\\\\n",
    "&- \\frac{l}{2} (\\bar{n}_{\\mr{th}}  + 1) (a^{\\dagger} a \\rho   - 2 a \\rho a^{\\dagger}_- + \\rho a^{\\dagger} a ).\n",
    "\\end{aligned}\n",
    "$$\n",
    "\n",
    "If all losses are transimission losses, $l$ may be related to the quality factor $Q$ of the cavity by $l = \\nu/Q$. In particular, at zero temperature ($\\bar{n}_{th} == 0$), we have Eq. (8.3.3)\n",
    "\n",
    "$$\n",
    "\\dot{\\rho} = - \\frac{l}{2} (a^{\\dagger} a \\rho   - 2 a \\rho a^{\\dagger}_- + \\rho a^{\\dagger} a ).\n",
    "$$\n",
    "\n",
    "**Squeezed vacuum reservoir**\n",
    "\n",
    "The evolution equation is given as\n",
    "\n",
    "$$\n",
    "\\begin{aligned}\n",
    "\\dot{\\rho} = &- \\frac{l}{2} N (a a^{\\dagger} \\rho - 2 a^{\\dagger} \\rho a + \\rho a a^{\\dagger}) \\\\\n",
    "&- \\frac{l}{2} (N  + 1) (a^{\\dagger} a \\rho   - 2 a \\rho a^{\\dagger}_- + \\rho a^{\\dagger} a ) \\\\\n",
    "&+ \\frac{l}{2} M (a a \\rho - 2 a \\rho a + \\rho a a) \\\\\n",
    "&+ \\frac{l}{2} M^\\ast (a^{\\dagger} a^{\\dagger} \\rho   - 2 a^{\\dagger} \\rho a^{\\dagger}_- + \\rho a^{\\dagger} a^{\\dagger} ) \\\\\n",
    "\\end{aligned},\n",
    "$$\n",
    "\n",
    "where $N = \\sinh^2 r$ and $M = \\cosh r \\sinh r \\exp(- i \\theta)$."
   ]
  },
  {
   "cell_type": "markdown",
   "metadata": {},
   "source": [
    "## 8.5 The 'quantum jump' approach to damping"
   ]
  },
  {
   "cell_type": "markdown",
   "metadata": {},
   "source": [
    "## 11.1 Equation of motion for the density matrix"
   ]
  },
  {
   "cell_type": "markdown",
   "metadata": {},
   "source": [
    "**Level Diagram**\n",
    "\n",
    "<img src=\"figs\\levels.png\" width=\"50%\" height=\"50%\">"
   ]
  },
  {
   "cell_type": "markdown",
   "metadata": {},
   "source": [
    "**Master Equation**\n",
    "\n",
    "The Hamiltonian for the interaction of the active atoms, which are resonant with the single-mode laser field, in the interaction picture and the rotating-wave approximation \n",
    "\n",
    "$$\n",
    "V = \\sum_i V_i = \\sum_i \\hbar g (\\sigma_+^i a + a^{\\dagger} \\sigma_-^i)\n",
    "$$\n",
    "\n",
    "\n",
    "The equation of motion for the laser field density matrix due to the interaction with the active lasing medium and the damping mechanism is\n",
    "\n",
    "$$\n",
    "\\dot{\\rho}_{n,n'} = - \\frac{i}{\\hbar} \\mr{Tr_{atoms}}[V, \\rho]_{n,n'} + (L\\rho)_{n,n'}\n",
    "$$\n",
    "\n",
    "The first term desribes the interactions between atoms and the field, which in details is\n",
    "\n",
    "$$\n",
    "\\left(\\frac{\\delta \\rho_{n,n'}}{\\delta t}\\right)_{\\mr{gain}} = - \\frac{i}{\\hbar} \\sum_{\\alpha_i = a,b} \\sum_{i} [V^i, \\rho^i]_{\\alpha_i, n; \\alpha_i, n'},\n",
    "$$\n",
    "\n",
    "where $\\rho^i$ is the atom-field density matrix for the $i$th atom and the field\n",
    "\n",
    "$$\n",
    "\\rho^{i}_{n,n'} = \\sum_{\\alpha_i, \\alpha_i'} \\rho_{\\alpha_i, n; \\alpha_i', n'}\n",
    "$$\n",
    "\n",
    "And we can introduce the generalized population matrix\n",
    "\n",
    "$$\n",
    "\\rho_{a,n;b,n+1} = \\sum_i \\rho_{a, n; b, n}.\n",
    "$$\n",
    "\n",
    "Therefore we can obtain\n",
    "\n",
    "$$\n",
    "\\begin{aligned}\n",
    "\\left(\\frac{\\delta \\rho_{n,n'}}{\\delta t}\\right)_{\\mr{gain}} = \n",
    "&- \\frac{i}{\\hbar} (V_{an, bn+1}\\rho_{bn+1, an'} - \\rho_{an,bn'+1}V_{bn'+1, an'}  \\\\\n",
    "&+ V_{bn, an-1}\\rho_{an-1,bn'} - \\rho_{bn, an'-1}V_{an'-1, bn'} )\n",
    "\\end{aligned}\n",
    "$$\n",
    "\n",
    "The second term describes the damping of the field, which can be obtained from Eq. (8.3.3) by\n",
    "\n",
    "$$\n",
    "(L\\rho)_{n,n'} =  \\bra{n}L\\rho\\ket{n'} = - \\frac{l}{2} (n + n') \\rho_{nn'} + l \\sqrt{(n+1)(n'+1)} \\rho_{n+1, n'+1}\n",
    "$$"
   ]
  },
  {
   "cell_type": "markdown",
   "metadata": {
    "collapsed": true
   },
   "source": [
    "**Equation of Motion for the Field**\n",
    "\n",
    "$$\n",
    "\\begin{aligned}\n",
    "\\dot{\\rho}_{nn'} =\n",
    "&- \\frac{M_{nn'}A}{1 + N_{nn'}B/A} \\rho_{nn'} + \\frac{\\sqrt{nn'}A}{1 + N_{n-1,n'-1}B/A} \\rho_{n-1,n'-1} \\\\\n",
    "&- \\frac{l}{2}(n+n')\\rho_{nn'} + l\\sqrt{(n+1)(n'+1)} \\rho_{n+1, n'+1}\n",
    "\\end{aligned}\n",
    "$$\n",
    "\n",
    "where\n",
    "$$\n",
    "\\begin{aligned}\n",
    "A &= \\frac{2r_a g^2}{\\gamma^2},~ ~ ~B = \\frac{4g^2}{\\gamma^2} A,\\\\\n",
    "M &= \\frac{1}{2}(n+n'+2) + (n-n')^2\\frac{B}{8A},\\\\\n",
    "N &= \\frac{1}{2}(n+n'+2) + (n-n')^2\\frac{B}{16A}.\n",
    "\\end{aligned}\n",
    "$$\n",
    "\n",
    "In particular, for diagonal elements, we have\n",
    "\n",
    "$$\n",
    "\\begin{aligned}\n",
    "\\dot{p}{n} =\n",
    "&- \\frac{(n+1)A}{1 + (n+1)B/A} p(n) + \\frac{nA}{1 + nB/A} p(n-1) \\\\\n",
    "&- lnp(n) + l(n+1)p(n+1)\n",
    "\\end{aligned}\n",
    "$$"
   ]
  },
  {
   "cell_type": "markdown",
   "metadata": {},
   "source": [
    "## 11.2 Laser photon statistics"
   ]
  },
  {
   "cell_type": "markdown",
   "metadata": {},
   "source": [
    "### 11.2.1 Linear approximation ($B=0$)\n",
    "\n",
    "In the steady state ($\\dot{p}(n)=0$), the equation of motion reduces to\n",
    "\n",
    "$$\n",
    "-A(n+1)p(n) +Anp(n-1) - lnp(n) + l(n+1)p(n+1) = 0\n",
    "$$\n",
    "\n",
    "The detailed balance condition implies that\n",
    "\n",
    "$$\n",
    "\\begin{aligned}\n",
    "Anp(n-1) &- lnp(n) = 0\\\\\n",
    "A(n+1)p(n) &- l(n+1)p(n+1) = 0\n",
    "\\end{aligned}\n",
    "$$\n",
    "\n",
    "The solution is clearly\n",
    "\n",
    "$$\n",
    "p(n) = \\left(1 - \\frac{A}{l} \\right) \\left( \\frac{A}{l} \\right)^n, ~~~ A < l. \n",
    "$$\n",
    "\n",
    "By defining an effective temperature $T$ by\n",
    "\n",
    "$$\n",
    "\\exp\\left( - \\frac{\\hbar \\nu}{k_B T} \\right) = \\frac{A}{B},\n",
    "$$\n",
    "\n",
    "we could obtain\n",
    "\n",
    "$$\n",
    "p(n) = \\left[1 - \\exp\\left(-\\frac{\\hbar\\nu}{k_B T}\\right) \\right] \\exp\\left(-\\frac{n\\hbar\\nu}{k_B T} \\right).\n",
    "$$\n",
    "\n",
    "So below the threshold, the steady-state solution is essentially that of a black-body cavity."
   ]
  },
  {
   "cell_type": "markdown",
   "metadata": {
    "collapsed": true
   },
   "source": [
    "### 11.2.2 Far above threshold ($A >> B$)"
   ]
  },
  {
   "cell_type": "code",
   "execution_count": null,
   "metadata": {
    "collapsed": true
   },
   "outputs": [],
   "source": []
  }
 ],
 "metadata": {
  "kernelspec": {
   "display_name": "Python 2",
   "language": "python",
   "name": "python2"
  },
  "language_info": {
   "codemirror_mode": {
    "name": "ipython",
    "version": 2
   },
   "file_extension": ".py",
   "mimetype": "text/x-python",
   "name": "python",
   "nbconvert_exporter": "python",
   "pygments_lexer": "ipython2",
   "version": "2.7.13"
  }
 },
 "nbformat": 4,
 "nbformat_minor": 1
}
