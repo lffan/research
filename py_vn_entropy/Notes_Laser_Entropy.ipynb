{
 "cells": [
  {
   "cell_type": "markdown",
   "metadata": {},
   "source": [
    "# von Neumann Entropy"
   ]
  },
  {
   "cell_type": "markdown",
   "metadata": {},
   "source": [
    "The defination of von Neumann entropy is defined as\n",
    "\n",
    "$$\n",
    "S = - \\rm{Tr} \\left( \\rho \\ln \\rho \\right)\n",
    "$$"
   ]
  },
  {
   "cell_type": "markdown",
   "metadata": {},
   "source": [
    "## Thermal State"
   ]
  },
  {
   "cell_type": "markdown",
   "metadata": {},
   "source": [
    "In thermal equilibrium at temperature $T$, the photon distribution is given by the Boltzmann factor\n",
    "\n",
    "$$\n",
    "p_n = \\left(1 - e ^ {- \\frac{\\hbar \\nu}{kT}} \\right) e ^ {- \\frac{n \\hbar \\nu}{kT}}\n",
    "$$\n",
    "\n",
    "The von Neumann entropy for such a thermal state is given by\n",
    "\n",
    "$$\n",
    "\\begin{aligned}\n",
    "S_\\rm{th} &= - \\sum_n p_n \\ln p_n \\\\\n",
    "&= - \\left(1 - e ^ {- \\frac{\\hbar \\nu}{kT}} \\right) \\sum_n \\left[ \\ln \\left(1 - e ^ {- \\frac{\\hbar \\nu}{kT}} \\right) - \\frac{n \\hbar \\nu}{kT} \\right] e ^ {- \\frac{n \\hbar \\nu}{kT}} \\\\\n",
    "&= - \\left(1 - e ^ {- \\frac{\\hbar \\nu}{kT}} \\right)  \\left[ \\ln \\left(1 - e ^ {- \\frac{\\hbar \\nu}{kT}} \\right) \\sum_n  e ^ {- \\frac{n \\hbar \\nu}{kT}} + \\frac{\\hbar \\nu}{kT} \\sum_n - n e ^ {- \\frac{n \\hbar \\nu}{kT}} \\right]\n",
    "\\end{aligned}\n",
    "$$"
   ]
  },
  {
   "cell_type": "markdown",
   "metadata": {},
   "source": [
    "Recall that\n",
    "\n",
    "$$\n",
    "\\begin{aligned}\n",
    "\\frac{1}{1 - x} &= \\sum_n x^n, ~~ |x| < 1 \\\\\n",
    "\\sum_n - n e^{-nx} &= \\frac{\\partial}{\\partial x} \\sum_n e^{-nx} = \\frac{\\partial}{\\partial x} \\frac{1}{1 - e^{-x}} = - \\frac{e^{-x}}{(1 - e^{-x})^2}\n",
    "\\end{aligned}\n",
    "$$"
   ]
  },
  {
   "cell_type": "markdown",
   "metadata": {},
   "source": [
    "Therefore we have\n",
    "\n",
    "$$\n",
    "\\begin{aligned}\n",
    "S_\\rm{th} &= - \\ln \\left(1 - e ^ {- \\frac{\\hbar \\nu}{kT}} \\right) - \\left(1 - e ^ {- \\frac{\\hbar \\nu}{kT}} \\right) \\frac{\\hbar \\nu}{kT} \\frac{\\partial}{\\partial{x}} \\sum_n e^{-nx} ~~ (\\mathrm{where} ~~ x = \\frac{\\hbar \\nu}{kT}) \\\\\n",
    "&= - \\ln \\left(1 - e ^ {- \\frac{\\hbar \\nu}{kT}} \\right) + \\left(1 - e ^ {- \\frac{\\hbar \\nu}{kT}} \\right) \\frac{\\hbar \\nu}{kT} \\frac{e^{-\\frac{\\hbar \\nu}{kT}}}{\\left(1 - e^{-\\frac{\\hbar \\nu}{kT}}\\right)^2} \\\\\n",
    "&= - \\ln \\left(1 - e ^ {- \\frac{\\hbar \\nu}{kT}} \\right) + \\frac{\\hbar \\nu}{kT} \\frac{1}{e ^ {\\frac{\\hbar \\nu}{kt}} - 1}\n",
    "\\end{aligned}\n",
    "$$"
   ]
  },
  {
   "cell_type": "markdown",
   "metadata": {
    "collapsed": true
   },
   "source": [
    "The average photon number of thermal state is given by\n",
    "\n",
    "$$\n",
    "\\bar{n} = \\sum_n n p_n = \\frac{1}{e ^ {\\hbar \\nu / k T } - 1}\n",
    "$$\n",
    "\n",
    "Then the entropy as a function of $\\bar{n}$ is given by\n",
    "\n",
    "$$\n",
    "S_{\\rm{th}} = (\\bar{n} + 1) \\ln (\\bar{n} + 1)) - \\bar{n} \\ln \\bar{n}\n",
    "$$"
   ]
  },
  {
   "cell_type": "markdown",
   "metadata": {
    "collapsed": true
   },
   "source": [
    "## Mixed Coherent State with Completely Random Phase"
   ]
  },
  {
   "cell_type": "markdown",
   "metadata": {},
   "source": [
    "The density matrix of the state is given by\n",
    "\n",
    "$$\n",
    "\\rho = \\sum_n \\rho_{nn} \\lvert n \\rangle \\langle n \\rvert = \\sum_n e^{-|\\alpha|^2} \\frac{|\\alpha|^{2n}}{n!} \\lvert n \\rangle \\langle n \\rvert\n",
    "$$\n",
    "\n",
    "Then the entropy of such a state is given by\n",
    "\n",
    "$$\n",
    "\\begin{aligned}\n",
    "S_\\rm{L} &= - \\sum_n \\rho_{nn} \\ln \\rho_{nn} \\\\\n",
    "& = |\\alpha|^2 - |\\alpha|^2 \\ln |\\alpha|^2 + e^{- |\\alpha|^2} \\sum_n \\frac{|\\alpha|^{2n}}{n!} \\ln n!\n",
    "\\end{aligned}\n",
    "$$"
   ]
  },
  {
   "cell_type": "code",
   "execution_count": null,
   "metadata": {
    "collapsed": true
   },
   "outputs": [],
   "source": []
  }
 ],
 "metadata": {
  "anaconda-cloud": {},
  "kernelspec": {
   "display_name": "Python 3",
   "language": "python",
   "name": "python3"
  },
  "language_info": {
   "codemirror_mode": {
    "name": "ipython",
    "version": 3
   },
   "file_extension": ".py",
   "mimetype": "text/x-python",
   "name": "python",
   "nbconvert_exporter": "python",
   "pygments_lexer": "ipython3",
   "version": "3.6.1"
  }
 },
 "nbformat": 4,
 "nbformat_minor": 1
}
