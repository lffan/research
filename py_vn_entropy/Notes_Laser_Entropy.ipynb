{
 "cells": [
  {
   "cell_type": "markdown",
   "metadata": {},
   "source": [
    "# von Neumann Entropy"
   ]
  },
  {
   "cell_type": "markdown",
   "metadata": {},
   "source": [
    "The defination of von Neumann entropy is defined as\n",
    "\n",
    "$$\n",
    "S = - \\rm{Tr} \\left( \\rho \\ln \\rho \\right)\n",
    "$$"
   ]
  },
  {
   "cell_type": "markdown",
   "metadata": {},
   "source": [
    "## Termal State"
   ]
  },
  {
   "cell_type": "markdown",
   "metadata": {},
   "source": [
    "In thermal equilibrium at temperature $T$, the photon distribution is given by the Boltzmann factor\n",
    "\n",
    "$$\n",
    "p_n = \\left(1 - e ^ {- \\frac{\\hbar \\nu}{kT}} \\right) e ^ {- \\frac{n \\hbar \\nu}{kT}}\n",
    "$$\n",
    "\n",
    "The von Neumann entropy for such a thermal state is given by\n",
    "\n",
    "$$\n",
    "\\begin{aligned}\n",
    "S &= - \\sum_n p_n \\ln p_n \\\\\n",
    "&= - \\left(1 - e ^ {- \\frac{\\hbar \\nu}{kT}} \\right) \\sum_n  e ^ {- \\frac{n \\hbar \\nu}{kT}} \\left\\{ \\ln \\left[1 - e ^ {- \\frac{\\hbar \\nu}{kT}} \\right] - \\frac{n \\hbar \\nu}{kT} \\right\\} \\\\\n",
    "&= - \\left(1 - e ^ {- \\frac{\\hbar \\nu}{kT}} \\right) \\left[ \\ln \\left(1 - e ^ {- \\frac{\\hbar \\nu}{kT}} \\right) \\sum_n  e ^ {- \\frac{n \\hbar \\nu}{kT}} - \\frac{\\hbar \\nu}{kT} \\sum_n  n e ^ {- \\frac{n \\hbar \\nu}{kT}} \\right] \\\\\n",
    "&= - \\ln \\left(1 - e ^ {- \\frac{\\hbar \\nu}{kT}} \\right) \n",
    "\\end{aligned}\n",
    "$$\n",
    "\n",
    "Recall that\n",
    "\n",
    "$$\n",
    "\\begin{aligned}\n",
    "\\frac{1}{1 - x} = \\sum_n x^n, ~~ |x| < 1\n",
    "\\end{aligned}\n",
    "$$"
   ]
  },
  {
   "cell_type": "code",
   "execution_count": null,
   "metadata": {
    "collapsed": true
   },
   "outputs": [],
   "source": []
  }
 ],
 "metadata": {
  "anaconda-cloud": {},
  "kernelspec": {
   "display_name": "Python [default]",
   "language": "python",
   "name": "python2"
  },
  "language_info": {
   "codemirror_mode": {
    "name": "ipython",
    "version": 2
   },
   "file_extension": ".py",
   "mimetype": "text/x-python",
   "name": "python",
   "nbconvert_exporter": "python",
   "pygments_lexer": "ipython2",
   "version": "2.7.12"
  }
 },
 "nbformat": 4,
 "nbformat_minor": 1
}
